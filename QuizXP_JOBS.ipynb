{
 "cells": [
  {
   "cell_type": "code",
   "execution_count": 2,
   "id": "59add6b2-2832-427a-a3e1-f247c0e451f6",
   "metadata": {},
   "outputs": [],
   "source": [
    "from bs4 import BeautifulSoup as bs\n",
    "import requests"
   ]
  },
  {
   "cell_type": "code",
   "execution_count": 3,
   "id": "b4742b0d-6c8b-43f4-8b60-882c7049edf6",
   "metadata": {},
   "outputs": [],
   "source": [
    "url=\"https://quizxp.com/\"\n",
    "response=requests.get(url)\n",
    "soup=bs(response.text,\"html.parser\")"
   ]
  },
  {
   "cell_type": "code",
   "execution_count": 5,
   "id": "428f6d41-cf9d-4bee-b662-5235b3a701c1",
   "metadata": {},
   "outputs": [],
   "source": [
    "jobs=soup.find_all(\"h2\",{\"class\":\"blog-entry-title entry-title\"})"
   ]
  },
  {
   "cell_type": "code",
   "execution_count": 72,
   "id": "5c1b0988-19eb-4630-8a81-c3e206771818",
   "metadata": {},
   "outputs": [
    {
     "data": {
      "text/plain": [
       "'https://quizxp.com/ey-off-campus-drive/'"
      ]
     },
     "execution_count": 72,
     "metadata": {},
     "output_type": "execute_result"
    }
   ],
   "source": [
    "jobs[0].find(\"a\").get(\"href\")"
   ]
  },
  {
   "cell_type": "code",
   "execution_count": 6,
   "id": "45bc67e8-519c-48e5-80b0-a17aa4f3a088",
   "metadata": {},
   "outputs": [],
   "source": [
    "Job_links=[]\n",
    "for i in jobs:\n",
    "    link=i.find(\"a\").get(\"href\")\n",
    "    Job_links.append(link)"
   ]
  },
  {
   "cell_type": "code",
   "execution_count": 70,
   "id": "1a8f70ef-a03d-498f-8806-c77374277704",
   "metadata": {},
   "outputs": [
    {
     "data": {
      "text/plain": [
       "'https://quizxp.com/page/2/'"
      ]
     },
     "execution_count": 70,
     "metadata": {},
     "output_type": "execute_result"
    }
   ],
   "source": [
    "next_page=soup.find_all(\"a\",{\"class\":\"page-numbers\"})\n",
    "next_page[0].get(\"href\")"
   ]
  },
  {
   "cell_type": "code",
   "execution_count": 55,
   "id": "4b1e6a90-8b69-4319-8ac8-8c39d9f0b6f2",
   "metadata": {},
   "outputs": [],
   "source": [
    "def scrape_joblinks(url):\n",
    "    response=requests.get(url)\n",
    "    soup1=bs(response.text,\"html.parser\")\n",
    "    jobs=soup.find_all(\"h2\",{\"class\":\"blog-entry-title entry-title\"})\n",
    "    for i in jobs:\n",
    "        link=i.find(\"a\").get(\"href\")\n",
    "        Job_links.append(link)"
   ]
  },
  {
   "cell_type": "code",
   "execution_count": 56,
   "id": "709f7c1f-acc7-47b7-9618-809092a34222",
   "metadata": {},
   "outputs": [],
   "source": [
    "initial_url=\"https://quizxp.com/\"\n",
    "Job_links=[]\n",
    "scrape_joblinks(initial_url)"
   ]
  },
  {
   "cell_type": "code",
   "execution_count": 67,
   "id": "da123df9-b76a-4f16-a192-36a00f843f7e",
   "metadata": {},
   "outputs": [],
   "source": [
    "max_page_count=10\n",
    "current_page_count=1\n",
    "response=requests.get(initial_url)\n",
    "soup1=bs(response.text,\"html.parser\")\n",
    "next_page=soup.find_all(\"a\",{\"class\":\"page-numbers\"})\n"
   ]
  },
  {
   "cell_type": "code",
   "execution_count": 76,
   "id": "527ae98f-8a3f-4e22-b17c-e1b6833e8410",
   "metadata": {},
   "outputs": [
    {
     "ename": "AttributeError",
     "evalue": "ResultSet object has no attribute 'get'. You're probably treating a list of elements like a single element. Did you call find_all() when you meant to call find()?",
     "output_type": "error",
     "traceback": [
      "\u001b[1;31m---------------------------------------------------------------------------\u001b[0m",
      "\u001b[1;31mAttributeError\u001b[0m                            Traceback (most recent call last)",
      "Cell \u001b[1;32mIn[76], line 3\u001b[0m\n\u001b[0;32m      1\u001b[0m \u001b[38;5;28;01mwhile\u001b[39;00m next_page \u001b[38;5;129;01mand\u001b[39;00m current_page_count\u001b[38;5;241m<\u001b[39m\u001b[38;5;241m=\u001b[39mmax_page_count:\n\u001b[0;32m      2\u001b[0m     current_page_count\u001b[38;5;241m+\u001b[39m\u001b[38;5;241m=\u001b[39m\u001b[38;5;241m1\u001b[39m\n\u001b[1;32m----> 3\u001b[0m     next_page_url\u001b[38;5;241m=\u001b[39m\u001b[43mnext_page\u001b[49m\u001b[38;5;241;43m.\u001b[39;49m\u001b[43mget\u001b[49m(\u001b[38;5;124m\"\u001b[39m\u001b[38;5;124mhref\u001b[39m\u001b[38;5;124m\"\u001b[39m)\n\u001b[0;32m      4\u001b[0m     \u001b[38;5;28;01mif\u001b[39;00m next_page_url:\n\u001b[0;32m      5\u001b[0m         scrape_joblinks(next_page_url)\n",
      "File \u001b[1;32m~\\AppData\\Local\\Packages\\PythonSoftwareFoundation.Python.3.11_qbz5n2kfra8p0\\LocalCache\\local-packages\\Python311\\site-packages\\bs4\\element.py:2428\u001b[0m, in \u001b[0;36mResultSet.__getattr__\u001b[1;34m(self, key)\u001b[0m\n\u001b[0;32m   2426\u001b[0m \u001b[38;5;28;01mdef\u001b[39;00m \u001b[38;5;21m__getattr__\u001b[39m(\u001b[38;5;28mself\u001b[39m, key):\n\u001b[0;32m   2427\u001b[0m \u001b[38;5;250m    \u001b[39m\u001b[38;5;124;03m\"\"\"Raise a helpful exception to explain a common code fix.\"\"\"\u001b[39;00m\n\u001b[1;32m-> 2428\u001b[0m     \u001b[38;5;28;01mraise\u001b[39;00m \u001b[38;5;167;01mAttributeError\u001b[39;00m(\n\u001b[0;32m   2429\u001b[0m         \u001b[38;5;124m\"\u001b[39m\u001b[38;5;124mResultSet object has no attribute \u001b[39m\u001b[38;5;124m'\u001b[39m\u001b[38;5;132;01m%s\u001b[39;00m\u001b[38;5;124m'\u001b[39m\u001b[38;5;124m. You\u001b[39m\u001b[38;5;124m'\u001b[39m\u001b[38;5;124mre probably treating a list of elements like a single element. Did you call find_all() when you meant to call find()?\u001b[39m\u001b[38;5;124m\"\u001b[39m \u001b[38;5;241m%\u001b[39m key\n\u001b[0;32m   2430\u001b[0m     )\n",
      "\u001b[1;31mAttributeError\u001b[0m: ResultSet object has no attribute 'get'. You're probably treating a list of elements like a single element. Did you call find_all() when you meant to call find()?"
     ]
    }
   ],
   "source": [
    "while next_page and current_page_count<=max_page_count:\n",
    "    current_page_count+=1\n",
    "    next_page_url=next_page.get(\"href\")\n",
    "    if next_page_url:\n",
    "        scrape_joblinks(next_page_url)\n",
    "        response = requests.get(next_page_url)\n",
    "        if response.status_code == 200:\n",
    "            soup = bs(response.text, \"html.parser\")\n",
    "            next_page = soup.find(\"a\", class_=\"next page-numbers\")  # Check for the \"Next\" button on the new page\n",
    "    else:\n",
    "        break"
   ]
  },
  {
   "cell_type": "code",
   "execution_count": 66,
   "id": "370b5e58-357d-4a8a-83bd-9e5bddd5c5a6",
   "metadata": {},
   "outputs": [
    {
     "data": {
      "text/plain": [
       "40"
      ]
     },
     "execution_count": 66,
     "metadata": {},
     "output_type": "execute_result"
    }
   ],
   "source": [
    "len(Job_links)"
   ]
  },
  {
   "cell_type": "code",
   "execution_count": 4,
   "id": "7a30b500-095c-43bb-9097-652518270735",
   "metadata": {},
   "outputs": [],
   "source": [
    "job_url='https://quizxp.com/zycus-off-campus-drive-2/'\n",
    "response1=requests.get(job_url)\n",
    "soup2=bs(response1.text,\"html.parser\")\n",
    "job_details_soup=soup2.find(\"tbody\")"
   ]
  },
  {
   "cell_type": "code",
   "execution_count": 60,
   "id": "775d39a3-c06c-4684-a9b8-3de6aab3bb29",
   "metadata": {},
   "outputs": [
    {
     "name": "stdout",
     "output_type": "stream",
     "text": [
      "Company NameZycus\n"
     ]
    }
   ],
   "source": [
    "details=[]\n",
    "for i in job_details_soup:\n",
    "    detail=i.find(\"tr\")\n",
    "    print(detail.text)"
   ]
  },
  {
   "cell_type": "code",
   "execution_count": 65,
   "id": "7bb2bd80-a671-4264-810c-354dc329f7f3",
   "metadata": {},
   "outputs": [
    {
     "ename": "AttributeError",
     "evalue": "ResultSet object has no attribute 'select'. You're probably treating a list of elements like a single element. Did you call find_all() when you meant to call find()?",
     "output_type": "error",
     "traceback": [
      "\u001b[1;31m---------------------------------------------------------------------------\u001b[0m",
      "\u001b[1;31mAttributeError\u001b[0m                            Traceback (most recent call last)",
      "Cell \u001b[1;32mIn[65], line 2\u001b[0m\n\u001b[0;32m      1\u001b[0m \u001b[38;5;66;03m# Find the table element\u001b[39;00m\n\u001b[1;32m----> 2\u001b[0m table \u001b[38;5;241m=\u001b[39m \u001b[43mjob_details_soup\u001b[49m\u001b[38;5;241;43m.\u001b[39;49m\u001b[43mselect\u001b[49m(\u001b[38;5;124m\"\u001b[39m\u001b[38;5;124mtable tbody tr\u001b[39m\u001b[38;5;124m\"\u001b[39m)\n\u001b[0;32m      4\u001b[0m \u001b[38;5;66;03m# Initialize a dictionary to store the details\u001b[39;00m\n\u001b[0;32m      5\u001b[0m details \u001b[38;5;241m=\u001b[39m {}\n",
      "File \u001b[1;32m~\\AppData\\Local\\Packages\\PythonSoftwareFoundation.Python.3.11_qbz5n2kfra8p0\\LocalCache\\local-packages\\Python311\\site-packages\\bs4\\element.py:2428\u001b[0m, in \u001b[0;36mResultSet.__getattr__\u001b[1;34m(self, key)\u001b[0m\n\u001b[0;32m   2426\u001b[0m \u001b[38;5;28;01mdef\u001b[39;00m \u001b[38;5;21m__getattr__\u001b[39m(\u001b[38;5;28mself\u001b[39m, key):\n\u001b[0;32m   2427\u001b[0m \u001b[38;5;250m    \u001b[39m\u001b[38;5;124;03m\"\"\"Raise a helpful exception to explain a common code fix.\"\"\"\u001b[39;00m\n\u001b[1;32m-> 2428\u001b[0m     \u001b[38;5;28;01mraise\u001b[39;00m \u001b[38;5;167;01mAttributeError\u001b[39;00m(\n\u001b[0;32m   2429\u001b[0m         \u001b[38;5;124m\"\u001b[39m\u001b[38;5;124mResultSet object has no attribute \u001b[39m\u001b[38;5;124m'\u001b[39m\u001b[38;5;132;01m%s\u001b[39;00m\u001b[38;5;124m'\u001b[39m\u001b[38;5;124m. You\u001b[39m\u001b[38;5;124m'\u001b[39m\u001b[38;5;124mre probably treating a list of elements like a single element. Did you call find_all() when you meant to call find()?\u001b[39m\u001b[38;5;124m\"\u001b[39m \u001b[38;5;241m%\u001b[39m key\n\u001b[0;32m   2430\u001b[0m     )\n",
      "\u001b[1;31mAttributeError\u001b[0m: ResultSet object has no attribute 'select'. You're probably treating a list of elements like a single element. Did you call find_all() when you meant to call find()?"
     ]
    }
   ],
   "source": [
    "# Find the table element\n",
    "table = job_details_soup.select(\"table tbody tr\")\n",
    "\n",
    "# Initialize a dictionary to store the details\n",
    "details = {}\n",
    "\n",
    "# Loop through the table rows to extract and store the data\n",
    "for row in table:\n",
    "    cells = row.find_all(\"td\")\n",
    "    if len(cells) == 2:\n",
    "        key = cells[0].text.strip()\n",
    "        value = cells[1].text.strip()\n",
    "        details[key] = value\n",
    "\n",
    "# Print the details dictionary\n",
    "print(details)\n",
    "\n",
    "\n",
    "\n"
   ]
  },
  {
   "cell_type": "code",
   "execution_count": 66,
   "id": "e6bbdcae-a859-4e30-9a30-6ea8fb896460",
   "metadata": {},
   "outputs": [],
   "source": [
    "job_details_soup=soup2.find(\"tbody\")"
   ]
  },
  {
   "cell_type": "code",
   "execution_count": 70,
   "id": "eb37b3fe-eb8f-4248-bd98-7922c116374c",
   "metadata": {},
   "outputs": [
    {
     "data": {
      "text/plain": [
       "'Company NameZycusWebsitewww.Zycus.comPositionsSoftware EngineerDesignationSoftware EngineerEligibilityB.E/B.Tech/BCA/MCA/B.ScBatch2020/2021/2022Job LocationMumbai, Bangalore, PuneExperienceFresherSalary\\xa0CTCRs 6 LPALast date to applyApply ASAP'"
      ]
     },
     "execution_count": 70,
     "metadata": {},
     "output_type": "execute_result"
    }
   ],
   "source": [
    "job_details_soup.text"
   ]
  },
  {
   "cell_type": "code",
   "execution_count": 77,
   "id": "39c6166a-ed9c-4976-b6f4-6cff8e25b897",
   "metadata": {},
   "outputs": [],
   "source": [
    "details=[]\n",
    "for row in job_details_soup(\"tr\"):\n",
    "    cells = row.find_all(\"td\")\n",
    "    value = cells[1].text.strip()\n",
    "    details.append(value)\n",
    "    "
   ]
  },
  {
   "cell_type": "code",
   "execution_count": 78,
   "id": "c344dfc1-29e7-4322-8e5b-76cc8cf3dcfe",
   "metadata": {},
   "outputs": [
    {
     "data": {
      "text/plain": [
       "10"
      ]
     },
     "execution_count": 78,
     "metadata": {},
     "output_type": "execute_result"
    }
   ],
   "source": [
    "len(details)"
   ]
  },
  {
   "cell_type": "code",
   "execution_count": 83,
   "id": "9098ae4c-e37f-44e8-bb52-a1715bdaba98",
   "metadata": {},
   "outputs": [],
   "source": [
    "date=soup2.find(\"time\").get(\"content\")"
   ]
  },
  {
   "cell_type": "code",
   "execution_count": 104,
   "id": "9793163f-bad3-4295-9912-283bde251123",
   "metadata": {},
   "outputs": [],
   "source": [
    "Qualification=(soup2.find_all(\"ul\"))[8].text.strip()"
   ]
  },
  {
   "cell_type": "code",
   "execution_count": 106,
   "id": "ae0376f1-ab1a-40e4-822c-670a3c0c9d58",
   "metadata": {},
   "outputs": [],
   "source": [
    "Skills_Required=(soup2.find_all(\"ul\"))[9].text.strip()"
   ]
  },
  {
   "cell_type": "code",
   "execution_count": 1,
   "id": "60d8e7fa-8dcb-4e21-9e51-2e76ce3cbb02",
   "metadata": {},
   "outputs": [
    {
     "ename": "NameError",
     "evalue": "name 'soup2' is not defined",
     "output_type": "error",
     "traceback": [
      "\u001b[1;31m---------------------------------------------------------------------------\u001b[0m",
      "\u001b[1;31mNameError\u001b[0m                                 Traceback (most recent call last)",
      "Cell \u001b[1;32mIn[1], line 1\u001b[0m\n\u001b[1;32m----> 1\u001b[0m apply_link_soup\u001b[38;5;241m=\u001b[39m\u001b[43msoup2\u001b[49m\u001b[38;5;241m.\u001b[39mfind_all(\u001b[38;5;124m\"\u001b[39m\u001b[38;5;124mp\u001b[39m\u001b[38;5;124m\"\u001b[39m)\n",
      "\u001b[1;31mNameError\u001b[0m: name 'soup2' is not defined"
     ]
    }
   ],
   "source": [
    "apply_link_soup=soup2.find_all(\"p\")"
   ]
  },
  {
   "cell_type": "code",
   "execution_count": 158,
   "id": "dae65b40-c00f-4e45-9efb-f6d2cd5552b2",
   "metadata": {},
   "outputs": [
    {
     "data": {
      "text/plain": [
       "'https://zycus.skillate.com/jobs/43113'"
      ]
     },
     "execution_count": 158,
     "metadata": {},
     "output_type": "execute_result"
    }
   ],
   "source": [
    "apply_link_soup[10].find(\"a\")[\"href\"]"
   ]
  },
  {
   "cell_type": "code",
   "execution_count": 11,
   "id": "7674befc-23f8-46be-b9f9-9051c12da32a",
   "metadata": {},
   "outputs": [],
   "source": [
    "url3=\"https://quizxp.com/altrata-off-campus-drive/\"\n",
    "response3=requests.get(url3)\n",
    "soup3=bs(response3.text,\"html.parser\")"
   ]
  },
  {
   "cell_type": "code",
   "execution_count": 12,
   "id": "ff6a2aca-ce30-4d4b-8462-92972bed7a67",
   "metadata": {},
   "outputs": [
    {
     "data": {
      "text/plain": [
       "[<p class=\"has-small-font-size\"><strong>Altrata Off Campus Drive 2023</strong>: Altrata is seeking a motivated and detail-oriented individual to join our team from 2020/2021/2022/ 2023/ 2024 batch for its hiring process. Bachelors, from any degree can apply for their hiring process. Candidates can start their careers in the Software Industry with Altrata as analyst. Interested and eligible candidates need to apply as soon as possible before the apply date. <em>Amazon latest job notification</em>, Selection process, interview process other details and apply link are given below:</p>,\n",
       " <p><a href=\"https://tnpofficer.com/norlox-solutions-off-campus-drive/#\" rel=\"noopener\" target=\"_blank\"></a></p>,\n",
       " <p class=\"toc_title\">Contents</p>,\n",
       " <p><strong>Company may withdraw the position any time so Candidates should apply as soon as possible before the link gets expired</strong>.</p>,\n",
       " <p>Candidate should always read job description and details carefully before applying. </p>,\n",
       " <p>Candidates shall meet the criteria for Altrata hiring</p>,\n",
       " <p>Interested candidates must follow the following procedure to apply for Off Campus Drive of Altrata 2023</p>,\n",
       " <p>Altrata is a fast paced, growing leader in SaaS solutions designed to help organizations find and connect with the people who will have the biggest impact on their business. Comprised of five unique products, Altrata is on a journey to build a singular tech solution to deliver data and intelligence on wealthy and influential people around the world.</p>,\n",
       " <p>All the eligible candidates may apply through the given link below for off campus drive of Altrata</p>,\n",
       " <p><strong>For regular Off-campus</strong> <strong>job, updates join:- </strong><mark class=\"has-inline-color\" style=\"background-color:rgba(0, 0, 0, 0);color:#ff0000\"><strong><a href=\"https://linktr.ee/quizxp\" rel=\"noopener\" target=\"_blank\">Click Here</a></strong></mark></p>,\n",
       " <p><strong>To Apply:</strong> <a href=\"https://altrata.peoplehr.net/Pages/JobBoard/Opening.aspx?v=21dc6ebd-7047-482e-b9e4-bfd5b7d396ab\" rel=\"noreferrer noopener\" target=\"_blank\">Click here</a></p>,\n",
       " <p class=\"comment-notes\"><span id=\"email-notes\">Your email address will not be published.</span> <span class=\"required-field-message\">Required fields are marked <span class=\"required\">*</span></span></p>,\n",
       " <p class=\"comment-form-comment\"><label for=\"comment\">Comment <span class=\"required\">*</span></label> <textarea cols=\"45\" id=\"comment\" maxlength=\"65525\" name=\"comment\" required=\"required\" rows=\"8\"></textarea></p>,\n",
       " <p class=\"comment-form-author\"><label for=\"author\">Name <span class=\"required\">*</span></label> <input autocomplete=\"name\" id=\"author\" maxlength=\"245\" name=\"author\" required=\"required\" size=\"30\" type=\"text\" value=\"\"/></p>,\n",
       " <p class=\"comment-form-email\"><label for=\"email\">Email <span class=\"required\">*</span></label> <input aria-describedby=\"email-notes\" autocomplete=\"email\" id=\"email\" maxlength=\"100\" name=\"email\" required=\"required\" size=\"30\" type=\"text\" value=\"\"/></p>,\n",
       " <p class=\"comment-form-url\"><label for=\"url\">Website</label> <input autocomplete=\"url\" id=\"url\" maxlength=\"200\" name=\"url\" size=\"30\" type=\"text\" value=\"\"/></p>,\n",
       " <p class=\"comment-form-cookies-consent\"><input id=\"wp-comment-cookies-consent\" name=\"wp-comment-cookies-consent\" type=\"checkbox\" value=\"yes\"> <label for=\"wp-comment-cookies-consent\">Save my name, email, and website in this browser for the next time I comment.</label></input></p>,\n",
       " <p class=\"form-submit\"><input class=\"submit\" id=\"submit\" name=\"submit\" type=\"submit\" value=\"Post Comment\"/> <input id=\"comment_post_ID\" name=\"comment_post_ID\" type=\"hidden\" value=\"13438\"/>\n",
       " <input id=\"comment_parent\" name=\"comment_parent\" type=\"hidden\" value=\"0\"/>\n",
       " </p>,\n",
       " <p style=\"display: none;\"><input id=\"akismet_comment_nonce\" name=\"akismet_comment_nonce\" type=\"hidden\" value=\"f04371cd06\"/></p>,\n",
       " <p style=\"display: none !important;\"><label>Δ<textarea cols=\"45\" maxlength=\"100\" name=\"ak_hp_textarea\" rows=\"8\"></textarea></label><input id=\"ak_js_1\" name=\"ak_js\" type=\"hidden\" value=\"235\"/><script>document.getElementById( \"ak_js_1\" ).setAttribute( \"value\", ( new Date() ).getTime() );</script></p>,\n",
       " <p class=\"widget-title\">Latest Upadate</p>,\n",
       " <p class=\"widget-title\">Search Deals &amp; Quiz</p>,\n",
       " <p class=\"widget-title\">Join Us</p>,\n",
       " <p><a href=\"https://themeisle.com/themes/neve/\" rel=\"nofollow\">Neve</a> | Powered by <a href=\"http://wordpress.org\" rel=\"nofollow\">WordPress</a></p>]"
      ]
     },
     "execution_count": 12,
     "metadata": {},
     "output_type": "execute_result"
    }
   ],
   "source": [
    "apply_link_soup1=soup3.find_all(\"p\")\n",
    "apply_link_soup1"
   ]
  },
  {
   "cell_type": "code",
   "execution_count": 13,
   "id": "ee75860e-62bb-413f-b67f-7999898e9f27",
   "metadata": {},
   "outputs": [
    {
     "data": {
      "text/plain": [
       "[<p class=\"has-small-font-size\"><strong>Zycus Off Campus Drive 2023</strong>: Zycus is seeking a motivated and detail-oriented individual to join our team from 2020/2021/2022/ 2023/ 2024 batch for its hiring process. Bachelors, from any degree can apply for their hiring process. Candidates can start their careers in the Software Industry with Zycus as analyst. Interested and eligible candidates need to apply as soon as possible before the apply date. <em>Amazon latest job notification</em>, Selection process, interview process other details and apply link are given below:</p>,\n",
       " <p><a href=\"https://tnpofficer.com/norlox-solutions-off-campus-drive/#\" rel=\"noopener\" target=\"_blank\"></a></p>,\n",
       " <p class=\"toc_title\">Contents</p>,\n",
       " <p><strong>Company may withdraw the position any time so Candidates should apply as soon as possible before the link gets expired</strong>.</p>,\n",
       " <p>Candidate should always read job description and details carefully before applying. </p>,\n",
       " <p>Candidates shall meet the criteria for Zycus hiring</p>,\n",
       " <p>Interested candidates must follow the following procedure to apply for Off Campus Drive of Zycus 2023</p>,\n",
       " <p>Zycus is a pioneer in Cognitive Procurement software and has been a trusted partner of choice for large global enterprises for two decades. Zycus has been consistently recognized by Gartner, Forrester, and other analysts for its Source to Pay integrated suite. Zycus powers its S2P software with the revolutionary Merlin AI Suite. Merlin AI takes over the tactical tasks and empowers procurement and AP officers to focus on strategic projects; offers data-driven actionable insights for quicker and smarter decisions, and its conversational AI offers a B2C type user-experience to the end-users.</p>,\n",
       " <p>All the eligible candidates may apply through the given link below for off campus drive of Zycus</p>,\n",
       " <p><strong>For regular Off-campus</strong> <strong>job, updates join:- </strong><mark class=\"has-inline-color\" style=\"background-color:rgba(0, 0, 0, 0);color:#ff0000\"><strong><a href=\"https://linktr.ee/quizxp\" rel=\"noopener\" target=\"_blank\">Click Here</a></strong></mark></p>,\n",
       " <p><strong>To Apply:</strong> <a href=\"https://zycus.skillate.com/jobs/43113\" rel=\"noreferrer noopener\" target=\"_blank\">Click here</a></p>,\n",
       " <p class=\"comment-notes\"><span id=\"email-notes\">Your email address will not be published.</span> <span class=\"required-field-message\">Required fields are marked <span class=\"required\">*</span></span></p>,\n",
       " <p class=\"comment-form-comment\"><label for=\"comment\">Comment <span class=\"required\">*</span></label> <textarea cols=\"45\" id=\"comment\" maxlength=\"65525\" name=\"comment\" required=\"required\" rows=\"8\"></textarea></p>,\n",
       " <p class=\"comment-form-author\"><label for=\"author\">Name <span class=\"required\">*</span></label> <input autocomplete=\"name\" id=\"author\" maxlength=\"245\" name=\"author\" required=\"required\" size=\"30\" type=\"text\" value=\"\"/></p>,\n",
       " <p class=\"comment-form-email\"><label for=\"email\">Email <span class=\"required\">*</span></label> <input aria-describedby=\"email-notes\" autocomplete=\"email\" id=\"email\" maxlength=\"100\" name=\"email\" required=\"required\" size=\"30\" type=\"text\" value=\"\"/></p>,\n",
       " <p class=\"comment-form-url\"><label for=\"url\">Website</label> <input autocomplete=\"url\" id=\"url\" maxlength=\"200\" name=\"url\" size=\"30\" type=\"text\" value=\"\"/></p>,\n",
       " <p class=\"comment-form-cookies-consent\"><input id=\"wp-comment-cookies-consent\" name=\"wp-comment-cookies-consent\" type=\"checkbox\" value=\"yes\"> <label for=\"wp-comment-cookies-consent\">Save my name, email, and website in this browser for the next time I comment.</label></input></p>,\n",
       " <p class=\"form-submit\"><input class=\"submit\" id=\"submit\" name=\"submit\" type=\"submit\" value=\"Post Comment\"/> <input id=\"comment_post_ID\" name=\"comment_post_ID\" type=\"hidden\" value=\"13432\"/>\n",
       " <input id=\"comment_parent\" name=\"comment_parent\" type=\"hidden\" value=\"0\"/>\n",
       " </p>,\n",
       " <p style=\"display: none;\"><input id=\"akismet_comment_nonce\" name=\"akismet_comment_nonce\" type=\"hidden\" value=\"ec41a022f6\"/></p>,\n",
       " <p style=\"display: none !important;\"><label>Δ<textarea cols=\"45\" maxlength=\"100\" name=\"ak_hp_textarea\" rows=\"8\"></textarea></label><input id=\"ak_js_1\" name=\"ak_js\" type=\"hidden\" value=\"218\"/><script>document.getElementById( \"ak_js_1\" ).setAttribute( \"value\", ( new Date() ).getTime() );</script></p>,\n",
       " <p class=\"widget-title\">Latest Upadate</p>,\n",
       " <p class=\"widget-title\">Search Deals &amp; Quiz</p>,\n",
       " <p class=\"widget-title\">Join Us</p>,\n",
       " <p><a href=\"https://themeisle.com/themes/neve/\" rel=\"nofollow\">Neve</a> | Powered by <a href=\"http://wordpress.org\" rel=\"nofollow\">WordPress</a></p>]"
      ]
     },
     "execution_count": 13,
     "metadata": {},
     "output_type": "execute_result"
    }
   ],
   "source": [
    "apply_link_soup"
   ]
  },
  {
   "cell_type": "code",
   "execution_count": 8,
   "id": "ee9821dc-d542-47fc-80d5-140176a14058",
   "metadata": {},
   "outputs": [
    {
     "ename": "AttributeError",
     "evalue": "ResultSet object has no attribute 'find_all'. You're probably treating a list of elements like a single element. Did you call find_all() when you meant to call find()?",
     "output_type": "error",
     "traceback": [
      "\u001b[1;31m---------------------------------------------------------------------------\u001b[0m",
      "\u001b[1;31mAttributeError\u001b[0m                            Traceback (most recent call last)",
      "Cell \u001b[1;32mIn[8], line 1\u001b[0m\n\u001b[1;32m----> 1\u001b[0m \u001b[43mapply_link_soup\u001b[49m\u001b[38;5;241;43m.\u001b[39;49m\u001b[43mfind_all\u001b[49m(\u001b[38;5;124m'\u001b[39m\u001b[38;5;124ma\u001b[39m\u001b[38;5;124m'\u001b[39m, text\u001b[38;5;241m=\u001b[39m\u001b[38;5;124m'\u001b[39m\u001b[38;5;124mClick here\u001b[39m\u001b[38;5;124m'\u001b[39m)\n",
      "File \u001b[1;32m~\\AppData\\Local\\Packages\\PythonSoftwareFoundation.Python.3.11_qbz5n2kfra8p0\\LocalCache\\local-packages\\Python311\\site-packages\\bs4\\element.py:2428\u001b[0m, in \u001b[0;36mResultSet.__getattr__\u001b[1;34m(self, key)\u001b[0m\n\u001b[0;32m   2426\u001b[0m \u001b[38;5;28;01mdef\u001b[39;00m \u001b[38;5;21m__getattr__\u001b[39m(\u001b[38;5;28mself\u001b[39m, key):\n\u001b[0;32m   2427\u001b[0m \u001b[38;5;250m    \u001b[39m\u001b[38;5;124;03m\"\"\"Raise a helpful exception to explain a common code fix.\"\"\"\u001b[39;00m\n\u001b[1;32m-> 2428\u001b[0m     \u001b[38;5;28;01mraise\u001b[39;00m \u001b[38;5;167;01mAttributeError\u001b[39;00m(\n\u001b[0;32m   2429\u001b[0m         \u001b[38;5;124m\"\u001b[39m\u001b[38;5;124mResultSet object has no attribute \u001b[39m\u001b[38;5;124m'\u001b[39m\u001b[38;5;132;01m%s\u001b[39;00m\u001b[38;5;124m'\u001b[39m\u001b[38;5;124m. You\u001b[39m\u001b[38;5;124m'\u001b[39m\u001b[38;5;124mre probably treating a list of elements like a single element. Did you call find_all() when you meant to call find()?\u001b[39m\u001b[38;5;124m\"\u001b[39m \u001b[38;5;241m%\u001b[39m key\n\u001b[0;32m   2430\u001b[0m     )\n",
      "\u001b[1;31mAttributeError\u001b[0m: ResultSet object has no attribute 'find_all'. You're probably treating a list of elements like a single element. Did you call find_all() when you meant to call find()?"
     ]
    }
   ],
   "source": [
    "apply_link_soup.find_all('a', text='Click here')"
   ]
  },
  {
   "cell_type": "code",
   "execution_count": 17,
   "id": "77f7e7f3-c5d8-46a9-ac8e-7feeaa93a06f",
   "metadata": {},
   "outputs": [],
   "source": [
    "def extract_apply_link(html_content):\n",
    "    apply_link = apply_link_soup.find('a', text='Click here')\n",
    "    if apply_link:\n",
    "        return apply_link.get('href')\n",
    "    else:\n",
    "        return None"
   ]
  },
  {
   "cell_type": "code",
   "execution_count": 18,
   "id": "d6c87290-835b-4c70-b983-07e8eb788173",
   "metadata": {},
   "outputs": [
    {
     "ename": "AttributeError",
     "evalue": "ResultSet object has no attribute 'find'. You're probably treating a list of elements like a single element. Did you call find_all() when you meant to call find()?",
     "output_type": "error",
     "traceback": [
      "\u001b[1;31m---------------------------------------------------------------------------\u001b[0m",
      "\u001b[1;31mAttributeError\u001b[0m                            Traceback (most recent call last)",
      "Cell \u001b[1;32mIn[18], line 1\u001b[0m\n\u001b[1;32m----> 1\u001b[0m apply_link_page_1 \u001b[38;5;241m=\u001b[39m \u001b[43mextract_apply_link\u001b[49m\u001b[43m(\u001b[49m\u001b[43mapply_link_soup\u001b[49m\u001b[43m)\u001b[49m\n\u001b[0;32m      2\u001b[0m \u001b[38;5;28;01mif\u001b[39;00m apply_link_page_1:\n\u001b[0;32m      3\u001b[0m     \u001b[38;5;28mprint\u001b[39m(\u001b[38;5;124m\"\u001b[39m\u001b[38;5;124mApply Link - Page 1:\u001b[39m\u001b[38;5;124m\"\u001b[39m, apply_link_page_1)\n",
      "Cell \u001b[1;32mIn[17], line 2\u001b[0m, in \u001b[0;36mextract_apply_link\u001b[1;34m(html_content)\u001b[0m\n\u001b[0;32m      1\u001b[0m \u001b[38;5;28;01mdef\u001b[39;00m \u001b[38;5;21mextract_apply_link\u001b[39m(html_content):\n\u001b[1;32m----> 2\u001b[0m     apply_link \u001b[38;5;241m=\u001b[39m \u001b[43mapply_link_soup\u001b[49m\u001b[38;5;241;43m.\u001b[39;49m\u001b[43mfind\u001b[49m(\u001b[38;5;124m'\u001b[39m\u001b[38;5;124ma\u001b[39m\u001b[38;5;124m'\u001b[39m, text\u001b[38;5;241m=\u001b[39m\u001b[38;5;124m'\u001b[39m\u001b[38;5;124mClick here\u001b[39m\u001b[38;5;124m'\u001b[39m)\n\u001b[0;32m      3\u001b[0m     \u001b[38;5;28;01mif\u001b[39;00m apply_link:\n\u001b[0;32m      4\u001b[0m         \u001b[38;5;28;01mreturn\u001b[39;00m apply_link\u001b[38;5;241m.\u001b[39mget(\u001b[38;5;124m'\u001b[39m\u001b[38;5;124mhref\u001b[39m\u001b[38;5;124m'\u001b[39m)\n",
      "File \u001b[1;32m~\\AppData\\Local\\Packages\\PythonSoftwareFoundation.Python.3.11_qbz5n2kfra8p0\\LocalCache\\local-packages\\Python311\\site-packages\\bs4\\element.py:2428\u001b[0m, in \u001b[0;36mResultSet.__getattr__\u001b[1;34m(self, key)\u001b[0m\n\u001b[0;32m   2426\u001b[0m \u001b[38;5;28;01mdef\u001b[39;00m \u001b[38;5;21m__getattr__\u001b[39m(\u001b[38;5;28mself\u001b[39m, key):\n\u001b[0;32m   2427\u001b[0m \u001b[38;5;250m    \u001b[39m\u001b[38;5;124;03m\"\"\"Raise a helpful exception to explain a common code fix.\"\"\"\u001b[39;00m\n\u001b[1;32m-> 2428\u001b[0m     \u001b[38;5;28;01mraise\u001b[39;00m \u001b[38;5;167;01mAttributeError\u001b[39;00m(\n\u001b[0;32m   2429\u001b[0m         \u001b[38;5;124m\"\u001b[39m\u001b[38;5;124mResultSet object has no attribute \u001b[39m\u001b[38;5;124m'\u001b[39m\u001b[38;5;132;01m%s\u001b[39;00m\u001b[38;5;124m'\u001b[39m\u001b[38;5;124m. You\u001b[39m\u001b[38;5;124m'\u001b[39m\u001b[38;5;124mre probably treating a list of elements like a single element. Did you call find_all() when you meant to call find()?\u001b[39m\u001b[38;5;124m\"\u001b[39m \u001b[38;5;241m%\u001b[39m key\n\u001b[0;32m   2430\u001b[0m     )\n",
      "\u001b[1;31mAttributeError\u001b[0m: ResultSet object has no attribute 'find'. You're probably treating a list of elements like a single element. Did you call find_all() when you meant to call find()?"
     ]
    }
   ],
   "source": [
    "apply_link_page_1 = extract_apply_link(apply_link_soup)\n",
    "if apply_link_page_1:\n",
    "    print(\"Apply Link - Page 1:\", apply_link_page_1)\n",
    "else:\n",
    "    print(\"Apply link not found on the first page.\")\n"
   ]
  },
  {
   "cell_type": "code",
   "execution_count": 28,
   "id": "a557753c-8f9e-45f1-9afe-fe5124dc6f90",
   "metadata": {},
   "outputs": [
    {
     "ename": "TypeError",
     "evalue": "'NoneType' object is not subscriptable",
     "output_type": "error",
     "traceback": [
      "\u001b[1;31m---------------------------------------------------------------------------\u001b[0m",
      "\u001b[1;31mTypeError\u001b[0m                                 Traceback (most recent call last)",
      "Cell \u001b[1;32mIn[28], line 2\u001b[0m\n\u001b[0;32m      1\u001b[0m \u001b[38;5;28;01mfor\u001b[39;00m i \u001b[38;5;129;01min\u001b[39;00m apply_link_soup:\n\u001b[1;32m----> 2\u001b[0m     \u001b[38;5;28mprint\u001b[39m(\u001b[43mi\u001b[49m\u001b[38;5;241;43m.\u001b[39;49m\u001b[43mfind\u001b[49m\u001b[43m(\u001b[49m\u001b[38;5;124;43m\"\u001b[39;49m\u001b[38;5;124;43ma\u001b[39;49m\u001b[38;5;124;43m\"\u001b[39;49m\u001b[43m)\u001b[49m\u001b[43m[\u001b[49m\u001b[38;5;124;43m\"\u001b[39;49m\u001b[38;5;124;43mhref\u001b[39;49m\u001b[38;5;124;43m\"\u001b[39;49m\u001b[43m]\u001b[49m)\n",
      "\u001b[1;31mTypeError\u001b[0m: 'NoneType' object is not subscriptable"
     ]
    }
   ],
   "source": [
    "for i in apply_link_soup:\n",
    "    print(i.find(\"a\")[\"href\"])"
   ]
  },
  {
   "cell_type": "code",
   "execution_count": 47,
   "id": "c8346583-023f-47db-8349-300aab34f519",
   "metadata": {},
   "outputs": [
    {
     "name": "stdout",
     "output_type": "stream",
     "text": [
      "https://zycus.skillate.com/jobs/43113\n"
     ]
    }
   ],
   "source": [
    "for i in apply_link_soup:\n",
    "    if i.text=='To Apply:\\xa0Click here':\n",
    "        link=i.find(\"a\")[\"href\"]\n",
    "        print(link)\n",
    "    "
   ]
  },
  {
   "cell_type": "code",
   "execution_count": 45,
   "id": "78ab1bd3-88dc-40b8-8fba-9d35f02f2691",
   "metadata": {},
   "outputs": [
    {
     "data": {
      "text/plain": [
       "'https://zycus.skillate.com/jobs/43113'"
      ]
     },
     "execution_count": 45,
     "metadata": {},
     "output_type": "execute_result"
    }
   ],
   "source": [
    "apply_link_soup[10].find(\"a\")[\"href\"]"
   ]
  },
  {
   "cell_type": "code",
   "execution_count": 48,
   "id": "1add6cee-d66a-414f-aac6-2268dd57cb4f",
   "metadata": {},
   "outputs": [
    {
     "name": "stdout",
     "output_type": "stream",
     "text": [
      "https://altrata.peoplehr.net/Pages/JobBoard/Opening.aspx?v=21dc6ebd-7047-482e-b9e4-bfd5b7d396ab\n"
     ]
    }
   ],
   "source": [
    "for i in apply_link_soup1:\n",
    "    if i.text=='To Apply:\\xa0Click here':\n",
    "        link=i.find(\"a\")[\"href\"]\n",
    "        print(link)\n",
    "    "
   ]
  },
  {
   "cell_type": "code",
   "execution_count": 7,
   "id": "59ae0a64-e553-4818-b30f-3d50561f97c0",
   "metadata": {},
   "outputs": [],
   "source": [
    "url=Job_links[0]"
   ]
  },
  {
   "cell_type": "code",
   "execution_count": 8,
   "id": "80f888a3-7301-40a8-a09d-6e786b9cb92c",
   "metadata": {},
   "outputs": [
    {
     "data": {
      "text/plain": [
       "'https://quizxp.com/keysight-off-campus-hiring-drive-2023/'"
      ]
     },
     "execution_count": 8,
     "metadata": {},
     "output_type": "execute_result"
    }
   ],
   "source": [
    "url"
   ]
  },
  {
   "cell_type": "code",
   "execution_count": 9,
   "id": "3e4928dd-3a95-440c-8add-e667425db5bd",
   "metadata": {},
   "outputs": [],
   "source": [
    "response=(requests.get(url))"
   ]
  },
  {
   "cell_type": "code",
   "execution_count": 10,
   "id": "492ab188-ac92-4ad0-9030-249a475c4ae1",
   "metadata": {},
   "outputs": [],
   "source": [
    "soup=bs(response.text,\"html.parser\")"
   ]
  },
  {
   "cell_type": "code",
   "execution_count": 11,
   "id": "44374133-7fce-4b73-a976-e7842a411d02",
   "metadata": {},
   "outputs": [
    {
     "data": {
      "text/plain": [
       "<!DOCTYPE html>\n",
       "\n",
       "<html lang=\"en-US\" prefix=\"og: https://ogp.me/ns#\">\n",
       "<head>\n",
       "<script async=\"\" crossorigin=\"anonymous\" src=\"https://pagead2.googlesyndication.com/pagead/js/adsbygoogle.js?client=ca-pub-4899727169201705\"></script>\n",
       "<meta charset=\"utf-8\"/>\n",
       "<meta content=\"width=device-width, initial-scale=1, minimum-scale=1\" name=\"viewport\"/>\n",
       "<link href=\"https://gmpg.org/xfn/11\" rel=\"profile\"/>\n",
       "<title>KeySight Off Campus hiring Drive 2023 for Technical Support Engineer - QuizXP</title>\n",
       "<meta content=\"index, follow, max-snippet:-1, max-video-preview:-1, max-image-preview:large\" name=\"robots\">\n",
       "<link href=\"https://quizxp.com/keysight-off-campus-hiring-drive-2023/\" rel=\"canonical\">\n",
       "<meta content=\"en_US\" property=\"og:locale\">\n",
       "<meta content=\"article\" property=\"og:type\"/>\n",
       "<meta content=\"KeySight Off Campus hiring Drive 2023 for Technical Support Engineer - QuizXP\" property=\"og:title\"/>\n",
       "<meta content='KeySight Off Campus hiring Drive 2023: KeySight is seeking a motivated and detail-oriented individual to join our team from 2020/2021/2022/ 2023/ 2024 batch for its hiring process. Bachelors, from any degree can apply for their hiring process. Candidates can start their careers in the Software Industry with KeySight as analyst. Interested and eligible candidates need to… &lt;a href=\"https://quizxp.com/keysight-off-campus-hiring-drive-2023/\" class=\"\" rel=\"bookmark\"&gt;Read More »&lt;span class=\"screen-reader-text\"&gt;KeySight Off Campus hiring Drive 2023 for Technical Support Engineer&lt;/span&gt;&lt;/a&gt;' property=\"og:description\"/>\n",
       "<meta content=\"https://quizxp.com/keysight-off-campus-hiring-drive-2023/\" property=\"og:url\"/>\n",
       "<meta content=\"QuizXP\" property=\"og:site_name\"/>\n",
       "<meta content=\"Internship\" property=\"article:section\"/>\n",
       "<meta content=\"2023-10-28T11:45:37+05:30\" property=\"og:updated_time\"/>\n",
       "<meta content=\"https://quizxp.com/wp-content/uploads/2023/10/KeySight-Off-Campus-hiring-Drive-2023.png\" property=\"og:image\"/>\n",
       "<meta content=\"https://quizxp.com/wp-content/uploads/2023/10/KeySight-Off-Campus-hiring-Drive-2023.png\" property=\"og:image:secure_url\"/>\n",
       "<meta content=\"500\" property=\"og:image:width\"/>\n",
       "<meta content=\"300\" property=\"og:image:height\"/>\n",
       "<meta content=\"KeySight Off Campus hiring Drive 2023\" property=\"og:image:alt\"/>\n",
       "<meta content=\"image/png\" property=\"og:image:type\"/>\n",
       "<meta content=\"2023-10-28T11:45:16+05:30\" property=\"article:published_time\"/>\n",
       "<meta content=\"2023-10-28T11:45:37+05:30\" property=\"article:modified_time\"/>\n",
       "<meta content=\"summary_large_image\" name=\"twitter:card\"/>\n",
       "<meta content=\"KeySight Off Campus hiring Drive 2023 for Technical Support Engineer - QuizXP\" name=\"twitter:title\"/>\n",
       "<meta content='KeySight Off Campus hiring Drive 2023: KeySight is seeking a motivated and detail-oriented individual to join our team from 2020/2021/2022/ 2023/ 2024 batch for its hiring process. Bachelors, from any degree can apply for their hiring process. Candidates can start their careers in the Software Industry with KeySight as analyst. Interested and eligible candidates need to… &lt;a href=\"https://quizxp.com/keysight-off-campus-hiring-drive-2023/\" class=\"\" rel=\"bookmark\"&gt;Read More »&lt;span class=\"screen-reader-text\"&gt;KeySight Off Campus hiring Drive 2023 for Technical Support Engineer&lt;/span&gt;&lt;/a&gt;' name=\"twitter:description\"/>\n",
       "<meta content=\"https://quizxp.com/wp-content/uploads/2023/10/KeySight-Off-Campus-hiring-Drive-2023.png\" name=\"twitter:image\"/>\n",
       "<meta content=\"Written by\" name=\"twitter:label1\"/>\n",
       "<meta content=\"QuizXp Team\" name=\"twitter:data1\"/>\n",
       "<meta content=\"Time to read\" name=\"twitter:label2\"/>\n",
       "<meta content=\"2 minutes\" name=\"twitter:data2\"/>\n",
       "<script class=\"rank-math-schema\" type=\"application/ld+json\">{\"@context\":\"https://schema.org\",\"@graph\":[{\"@type\":[\"Person\",\"Organization\"],\"@id\":\"https://quizxp.com/#person\",\"name\":\"QuizXp Team\",\"logo\":{\"@type\":\"ImageObject\",\"@id\":\"https://quizxp.com/#logo\",\"url\":\"https://quizxp.com/wp-content/uploads/2020/10/cropped-Quiz2-5.png\",\"contentUrl\":\"https://quizxp.com/wp-content/uploads/2020/10/cropped-Quiz2-5.png\",\"caption\":\"QuizXp Team\",\"inLanguage\":\"en-US\",\"width\":\"500\",\"height\":\"130\"},\"image\":{\"@type\":\"ImageObject\",\"@id\":\"https://quizxp.com/#logo\",\"url\":\"https://quizxp.com/wp-content/uploads/2020/10/cropped-Quiz2-5.png\",\"contentUrl\":\"https://quizxp.com/wp-content/uploads/2020/10/cropped-Quiz2-5.png\",\"caption\":\"QuizXp Team\",\"inLanguage\":\"en-US\",\"width\":\"500\",\"height\":\"130\"}},{\"@type\":\"WebSite\",\"@id\":\"https://quizxp.com/#website\",\"url\":\"https://quizxp.com\",\"name\":\"QuizXp Team\",\"publisher\":{\"@id\":\"https://quizxp.com/#person\"},\"inLanguage\":\"en-US\"},{\"@type\":\"ImageObject\",\"@id\":\"https://quizxp.com/wp-content/uploads/2023/10/KeySight-Off-Campus-hiring-Drive-2023.png\",\"url\":\"https://quizxp.com/wp-content/uploads/2023/10/KeySight-Off-Campus-hiring-Drive-2023.png\",\"width\":\"500\",\"height\":\"300\",\"caption\":\"KeySight Off Campus hiring Drive 2023\",\"inLanguage\":\"en-US\"},{\"@type\":\"WebPage\",\"@id\":\"https://quizxp.com/keysight-off-campus-hiring-drive-2023/#webpage\",\"url\":\"https://quizxp.com/keysight-off-campus-hiring-drive-2023/\",\"name\":\"KeySight Off Campus hiring Drive 2023 for Technical Support Engineer - QuizXP\",\"datePublished\":\"2023-10-28T11:45:16+05:30\",\"dateModified\":\"2023-10-28T11:45:37+05:30\",\"isPartOf\":{\"@id\":\"https://quizxp.com/#website\"},\"primaryImageOfPage\":{\"@id\":\"https://quizxp.com/wp-content/uploads/2023/10/KeySight-Off-Campus-hiring-Drive-2023.png\"},\"inLanguage\":\"en-US\"},{\"@type\":\"Person\",\"@id\":\"https://quizxp.com/author/prajyotjigmail-com/\",\"name\":\"QuizXp Team\",\"url\":\"https://quizxp.com/author/prajyotjigmail-com/\",\"image\":{\"@type\":\"ImageObject\",\"@id\":\"https://secure.gravatar.com/avatar/396da351c52911b6bd86084878e33ad8?s=96&amp;r=g\",\"url\":\"https://secure.gravatar.com/avatar/396da351c52911b6bd86084878e33ad8?s=96&amp;r=g\",\"caption\":\"QuizXp Team\",\"inLanguage\":\"en-US\"},\"sameAs\":[\"https://quizxp.com\"]},{\"@type\":\"BlogPosting\",\"headline\":\"KeySight Off Campus hiring Drive 2023 for Technical Support Engineer - QuizXP\",\"keywords\":\"KeySight Off Campus hiring Drive 2023\",\"datePublished\":\"2023-10-28T11:45:16+05:30\",\"dateModified\":\"2023-10-28T11:45:37+05:30\",\"author\":{\"@id\":\"https://quizxp.com/author/prajyotjigmail-com/\",\"name\":\"QuizXp Team\"},\"publisher\":{\"@id\":\"https://quizxp.com/#person\"},\"description\":\"KeySight Off Campus hiring Drive 2023: KeySight is seeking a motivated and detail-oriented individual to join our team from 2020/2021/2022/ 2023/ 2024 batch for its hiring process. Bachelors, from&nbsp;any degree can apply for their hiring process. Candidates can start their careers in the Software Industry with KeySight as analyst. Interested and eligible candidates need to apply as soon as possible before the apply date. Amazon latest job notification, Selection process, interview process other details and apply link are given below:\",\"name\":\"KeySight Off Campus hiring Drive 2023 for Technical Support Engineer - QuizXP\",\"@id\":\"https://quizxp.com/keysight-off-campus-hiring-drive-2023/#richSnippet\",\"isPartOf\":{\"@id\":\"https://quizxp.com/keysight-off-campus-hiring-drive-2023/#webpage\"},\"image\":{\"@id\":\"https://quizxp.com/wp-content/uploads/2023/10/KeySight-Off-Campus-hiring-Drive-2023.png\"},\"inLanguage\":\"en-US\",\"mainEntityOfPage\":{\"@id\":\"https://quizxp.com/keysight-off-campus-hiring-drive-2023/#webpage\"}}]}</script>\n",
       "<link href=\"//cdn.ampproject.org\" rel=\"dns-prefetch\"/>\n",
       "<link href=\"//js.makestories.io\" rel=\"dns-prefetch\"/>\n",
       "<link href=\"//www.googletagmanager.com\" rel=\"dns-prefetch\"/>\n",
       "<link href=\"//pagead2.googlesyndication.com\" rel=\"dns-prefetch\"/>\n",
       "<link href=\"https://quizxp.com/feed/\" rel=\"alternate\" title=\"QuizXP » Feed\" type=\"application/rss+xml\"/>\n",
       "<link href=\"https://quizxp.com/comments/feed/\" rel=\"alternate\" title=\"QuizXP » Comments Feed\" type=\"application/rss+xml\"/>\n",
       "<link href=\"https://quizxp.com/keysight-off-campus-hiring-drive-2023/feed/\" rel=\"alternate\" title=\"QuizXP » KeySight Off Campus hiring Drive 2023 for Technical Support Engineer Comments Feed\" type=\"application/rss+xml\"/>\n",
       "<link href=\"https://quizxp.com/web-stories/feed/\" rel=\"alternate\" title=\"QuizXP » Stories Feed\" type=\"application/rss+xml\"/><script type=\"text/javascript\">\n",
       "window._wpemojiSettings = {\"baseUrl\":\"https:\\/\\/s.w.org\\/images\\/core\\/emoji\\/14.0.0\\/72x72\\/\",\"ext\":\".png\",\"svgUrl\":\"https:\\/\\/s.w.org\\/images\\/core\\/emoji\\/14.0.0\\/svg\\/\",\"svgExt\":\".svg\",\"source\":{\"concatemoji\":\"https:\\/\\/quizxp.com\\/wp-includes\\/js\\/wp-emoji-release.min.js?ver=6.3.2\"}};\n",
       "/*! This file is auto-generated */\n",
       "!function(i,n){var o,s,e;function c(e){try{var t={supportTests:e,timestamp:(new Date).valueOf()};sessionStorage.setItem(o,JSON.stringify(t))}catch(e){}}function p(e,t,n){e.clearRect(0,0,e.canvas.width,e.canvas.height),e.fillText(t,0,0);var t=new Uint32Array(e.getImageData(0,0,e.canvas.width,e.canvas.height).data),r=(e.clearRect(0,0,e.canvas.width,e.canvas.height),e.fillText(n,0,0),new Uint32Array(e.getImageData(0,0,e.canvas.width,e.canvas.height).data));return t.every(function(e,t){return e===r[t]})}function u(e,t,n){switch(t){case\"flag\":return n(e,\"\\ud83c\\udff3\\ufe0f\\u200d\\u26a7\\ufe0f\",\"\\ud83c\\udff3\\ufe0f\\u200b\\u26a7\\ufe0f\")?!1:!n(e,\"\\ud83c\\uddfa\\ud83c\\uddf3\",\"\\ud83c\\uddfa\\u200b\\ud83c\\uddf3\")&&!n(e,\"\\ud83c\\udff4\\udb40\\udc67\\udb40\\udc62\\udb40\\udc65\\udb40\\udc6e\\udb40\\udc67\\udb40\\udc7f\",\"\\ud83c\\udff4\\u200b\\udb40\\udc67\\u200b\\udb40\\udc62\\u200b\\udb40\\udc65\\u200b\\udb40\\udc6e\\u200b\\udb40\\udc67\\u200b\\udb40\\udc7f\");case\"emoji\":return!n(e,\"\\ud83e\\udef1\\ud83c\\udffb\\u200d\\ud83e\\udef2\\ud83c\\udfff\",\"\\ud83e\\udef1\\ud83c\\udffb\\u200b\\ud83e\\udef2\\ud83c\\udfff\")}return!1}function f(e,t,n){var r=\"undefined\"!=typeof WorkerGlobalScope&&self instanceof WorkerGlobalScope?new OffscreenCanvas(300,150):i.createElement(\"canvas\"),a=r.getContext(\"2d\",{willReadFrequently:!0}),o=(a.textBaseline=\"top\",a.font=\"600 32px Arial\",{});return e.forEach(function(e){o[e]=t(a,e,n)}),o}function t(e){var t=i.createElement(\"script\");t.src=e,t.defer=!0,i.head.appendChild(t)}\"undefined\"!=typeof Promise&&(o=\"wpEmojiSettingsSupports\",s=[\"flag\",\"emoji\"],n.supports={everything:!0,everythingExceptFlag:!0},e=new Promise(function(e){i.addEventListener(\"DOMContentLoaded\",e,{once:!0})}),new Promise(function(t){var n=function(){try{var e=JSON.parse(sessionStorage.getItem(o));if(\"object\"==typeof e&&\"number\"==typeof e.timestamp&&(new Date).valueOf()<e.timestamp+604800&&\"object\"==typeof e.supportTests)return e.supportTests}catch(e){}return null}();if(!n){if(\"undefined\"!=typeof Worker&&\"undefined\"!=typeof OffscreenCanvas&&\"undefined\"!=typeof URL&&URL.createObjectURL&&\"undefined\"!=typeof Blob)try{var e=\"postMessage(\"+f.toString()+\"(\"+[JSON.stringify(s),u.toString(),p.toString()].join(\",\")+\"));\",r=new Blob([e],{type:\"text/javascript\"}),a=new Worker(URL.createObjectURL(r),{name:\"wpTestEmojiSupports\"});return void(a.onmessage=function(e){c(n=e.data),a.terminate(),t(n)})}catch(e){}c(n=f(s,u,p))}t(n)}).then(function(e){for(var t in e)n.supports[t]=e[t],n.supports.everything=n.supports.everything&&n.supports[t],\"flag\"!==t&&(n.supports.everythingExceptFlag=n.supports.everythingExceptFlag&&n.supports[t]);n.supports.everythingExceptFlag=n.supports.everythingExceptFlag&&!n.supports.flag,n.DOMReady=!1,n.readyCallback=function(){n.DOMReady=!0}}).then(function(){return e}).then(function(){var e;n.supports.everything||(n.readyCallback(),(e=n.source||{}).concatemoji?t(e.concatemoji):e.wpemoji&&e.twemoji&&(t(e.twemoji),t(e.wpemoji)))}))}((window,document),window._wpemojiSettings);\n",
       "</script>\n",
       "<style type=\"text/css\">\n",
       "img.wp-smiley,\n",
       "img.emoji {\n",
       "\tdisplay: inline !important;\n",
       "\tborder: none !important;\n",
       "\tbox-shadow: none !important;\n",
       "\theight: 1em !important;\n",
       "\twidth: 1em !important;\n",
       "\tmargin: 0 0.07em !important;\n",
       "\tvertical-align: -0.1em !important;\n",
       "\tbackground: none !important;\n",
       "\tpadding: 0 !important;\n",
       "}\n",
       "</style>\n",
       "<link href=\"https://quizxp.com/wp-content/plugins/content-views-query-and-display-post-page/public/assets/css/cv.css?ver=3.5.0\" id=\"pt-cv-public-style-css\" media=\"all\" rel=\"stylesheet\" type=\"text/css\">\n",
       "<link href=\"https://quizxp.com/wp-includes/css/dist/block-library/style.min.css?ver=6.3.2\" id=\"wp-block-library-css\" media=\"all\" rel=\"stylesheet\" type=\"text/css\"/>\n",
       "<link href=\"https://quizxp.com/wp-includes/css/dist/components/style.min.css?ver=6.3.2\" id=\"wp-components-css\" media=\"all\" rel=\"stylesheet\" type=\"text/css\"/>\n",
       "<link href=\"https://quizxp.com/wp-content/plugins/wptelegram-widget/assets/static/css/wptelegram-widget--blocks.c6bba460.css?ver=1660131084\" id=\"wptelegram-widget--blocks-css\" media=\"all\" rel=\"stylesheet\" type=\"text/css\"/>\n",
       "<style id=\"wptelegram-widget--blocks-inline-css\" type=\"text/css\">\n",
       ":root {--wptelegram-widget-join-link-bg-color: #389ce9;--wptelegram-widget-join-link-color: #fff}\n",
       "</style>\n",
       "<style id=\"classic-theme-styles-inline-css\" type=\"text/css\">\n",
       "/*! This file is auto-generated */\n",
       ".wp-block-button__link{color:#fff;background-color:#32373c;border-radius:9999px;box-shadow:none;text-decoration:none;padding:calc(.667em + 2px) calc(1.333em + 2px);font-size:1.125em}.wp-block-file__button{background:#32373c;color:#fff;text-decoration:none}\n",
       "</style>\n",
       "<style id=\"global-styles-inline-css\" type=\"text/css\">\n",
       "body{--wp--preset--color--black: #000000;--wp--preset--color--cyan-bluish-gray: #abb8c3;--wp--preset--color--white: #ffffff;--wp--preset--color--pale-pink: #f78da7;--wp--preset--color--vivid-red: #cf2e2e;--wp--preset--color--luminous-vivid-orange: #ff6900;--wp--preset--color--luminous-vivid-amber: #fcb900;--wp--preset--color--light-green-cyan: #7bdcb5;--wp--preset--color--vivid-green-cyan: #00d084;--wp--preset--color--pale-cyan-blue: #8ed1fc;--wp--preset--color--vivid-cyan-blue: #0693e3;--wp--preset--color--vivid-purple: #9b51e0;--wp--preset--color--neve-link-color: var(--nv-primary-accent);--wp--preset--color--neve-link-hover-color: var(--nv-secondary-accent);--wp--preset--color--nv-site-bg: var(--nv-site-bg);--wp--preset--color--nv-light-bg: var(--nv-light-bg);--wp--preset--color--nv-dark-bg: var(--nv-dark-bg);--wp--preset--color--neve-text-color: var(--nv-text-color);--wp--preset--color--nv-text-dark-bg: var(--nv-text-dark-bg);--wp--preset--color--nv-c-1: var(--nv-c-1);--wp--preset--color--nv-c-2: var(--nv-c-2);--wp--preset--gradient--vivid-cyan-blue-to-vivid-purple: linear-gradient(135deg,rgba(6,147,227,1) 0%,rgb(155,81,224) 100%);--wp--preset--gradient--light-green-cyan-to-vivid-green-cyan: linear-gradient(135deg,rgb(122,220,180) 0%,rgb(0,208,130) 100%);--wp--preset--gradient--luminous-vivid-amber-to-luminous-vivid-orange: linear-gradient(135deg,rgba(252,185,0,1) 0%,rgba(255,105,0,1) 100%);--wp--preset--gradient--luminous-vivid-orange-to-vivid-red: linear-gradient(135deg,rgba(255,105,0,1) 0%,rgb(207,46,46) 100%);--wp--preset--gradient--very-light-gray-to-cyan-bluish-gray: linear-gradient(135deg,rgb(238,238,238) 0%,rgb(169,184,195) 100%);--wp--preset--gradient--cool-to-warm-spectrum: linear-gradient(135deg,rgb(74,234,220) 0%,rgb(151,120,209) 20%,rgb(207,42,186) 40%,rgb(238,44,130) 60%,rgb(251,105,98) 80%,rgb(254,248,76) 100%);--wp--preset--gradient--blush-light-purple: linear-gradient(135deg,rgb(255,206,236) 0%,rgb(152,150,240) 100%);--wp--preset--gradient--blush-bordeaux: linear-gradient(135deg,rgb(254,205,165) 0%,rgb(254,45,45) 50%,rgb(107,0,62) 100%);--wp--preset--gradient--luminous-dusk: linear-gradient(135deg,rgb(255,203,112) 0%,rgb(199,81,192) 50%,rgb(65,88,208) 100%);--wp--preset--gradient--pale-ocean: linear-gradient(135deg,rgb(255,245,203) 0%,rgb(182,227,212) 50%,rgb(51,167,181) 100%);--wp--preset--gradient--electric-grass: linear-gradient(135deg,rgb(202,248,128) 0%,rgb(113,206,126) 100%);--wp--preset--gradient--midnight: linear-gradient(135deg,rgb(2,3,129) 0%,rgb(40,116,252) 100%);--wp--preset--font-size--small: 13px;--wp--preset--font-size--medium: 20px;--wp--preset--font-size--large: 36px;--wp--preset--font-size--x-large: 42px;--wp--preset--spacing--20: 0.44rem;--wp--preset--spacing--30: 0.67rem;--wp--preset--spacing--40: 1rem;--wp--preset--spacing--50: 1.5rem;--wp--preset--spacing--60: 2.25rem;--wp--preset--spacing--70: 3.38rem;--wp--preset--spacing--80: 5.06rem;--wp--preset--shadow--natural: 6px 6px 9px rgba(0, 0, 0, 0.2);--wp--preset--shadow--deep: 12px 12px 50px rgba(0, 0, 0, 0.4);--wp--preset--shadow--sharp: 6px 6px 0px rgba(0, 0, 0, 0.2);--wp--preset--shadow--outlined: 6px 6px 0px -3px rgba(255, 255, 255, 1), 6px 6px rgba(0, 0, 0, 1);--wp--preset--shadow--crisp: 6px 6px 0px rgba(0, 0, 0, 1);}:where(.is-layout-flex){gap: 0.5em;}:where(.is-layout-grid){gap: 0.5em;}body .is-layout-flow > .alignleft{float: left;margin-inline-start: 0;margin-inline-end: 2em;}body .is-layout-flow > .alignright{float: right;margin-inline-start: 2em;margin-inline-end: 0;}body .is-layout-flow > .aligncenter{margin-left: auto !important;margin-right: auto !important;}body .is-layout-constrained > .alignleft{float: left;margin-inline-start: 0;margin-inline-end: 2em;}body .is-layout-constrained > .alignright{float: right;margin-inline-start: 2em;margin-inline-end: 0;}body .is-layout-constrained > .aligncenter{margin-left: auto !important;margin-right: auto !important;}body .is-layout-constrained > :where(:not(.alignleft):not(.alignright):not(.alignfull)){max-width: var(--wp--style--global--content-size);margin-left: auto !important;margin-right: auto !important;}body .is-layout-constrained > .alignwide{max-width: var(--wp--style--global--wide-size);}body .is-layout-flex{display: flex;}body .is-layout-flex{flex-wrap: wrap;align-items: center;}body .is-layout-flex > *{margin: 0;}body .is-layout-grid{display: grid;}body .is-layout-grid > *{margin: 0;}:where(.wp-block-columns.is-layout-flex){gap: 2em;}:where(.wp-block-columns.is-layout-grid){gap: 2em;}:where(.wp-block-post-template.is-layout-flex){gap: 1.25em;}:where(.wp-block-post-template.is-layout-grid){gap: 1.25em;}.has-black-color{color: var(--wp--preset--color--black) !important;}.has-cyan-bluish-gray-color{color: var(--wp--preset--color--cyan-bluish-gray) !important;}.has-white-color{color: var(--wp--preset--color--white) !important;}.has-pale-pink-color{color: var(--wp--preset--color--pale-pink) !important;}.has-vivid-red-color{color: var(--wp--preset--color--vivid-red) !important;}.has-luminous-vivid-orange-color{color: var(--wp--preset--color--luminous-vivid-orange) !important;}.has-luminous-vivid-amber-color{color: var(--wp--preset--color--luminous-vivid-amber) !important;}.has-light-green-cyan-color{color: var(--wp--preset--color--light-green-cyan) !important;}.has-vivid-green-cyan-color{color: var(--wp--preset--color--vivid-green-cyan) !important;}.has-pale-cyan-blue-color{color: var(--wp--preset--color--pale-cyan-blue) !important;}.has-vivid-cyan-blue-color{color: var(--wp--preset--color--vivid-cyan-blue) !important;}.has-vivid-purple-color{color: var(--wp--preset--color--vivid-purple) !important;}.has-black-background-color{background-color: var(--wp--preset--color--black) !important;}.has-cyan-bluish-gray-background-color{background-color: var(--wp--preset--color--cyan-bluish-gray) !important;}.has-white-background-color{background-color: var(--wp--preset--color--white) !important;}.has-pale-pink-background-color{background-color: var(--wp--preset--color--pale-pink) !important;}.has-vivid-red-background-color{background-color: var(--wp--preset--color--vivid-red) !important;}.has-luminous-vivid-orange-background-color{background-color: var(--wp--preset--color--luminous-vivid-orange) !important;}.has-luminous-vivid-amber-background-color{background-color: var(--wp--preset--color--luminous-vivid-amber) !important;}.has-light-green-cyan-background-color{background-color: var(--wp--preset--color--light-green-cyan) !important;}.has-vivid-green-cyan-background-color{background-color: var(--wp--preset--color--vivid-green-cyan) !important;}.has-pale-cyan-blue-background-color{background-color: var(--wp--preset--color--pale-cyan-blue) !important;}.has-vivid-cyan-blue-background-color{background-color: var(--wp--preset--color--vivid-cyan-blue) !important;}.has-vivid-purple-background-color{background-color: var(--wp--preset--color--vivid-purple) !important;}.has-black-border-color{border-color: var(--wp--preset--color--black) !important;}.has-cyan-bluish-gray-border-color{border-color: var(--wp--preset--color--cyan-bluish-gray) !important;}.has-white-border-color{border-color: var(--wp--preset--color--white) !important;}.has-pale-pink-border-color{border-color: var(--wp--preset--color--pale-pink) !important;}.has-vivid-red-border-color{border-color: var(--wp--preset--color--vivid-red) !important;}.has-luminous-vivid-orange-border-color{border-color: var(--wp--preset--color--luminous-vivid-orange) !important;}.has-luminous-vivid-amber-border-color{border-color: var(--wp--preset--color--luminous-vivid-amber) !important;}.has-light-green-cyan-border-color{border-color: var(--wp--preset--color--light-green-cyan) !important;}.has-vivid-green-cyan-border-color{border-color: var(--wp--preset--color--vivid-green-cyan) !important;}.has-pale-cyan-blue-border-color{border-color: var(--wp--preset--color--pale-cyan-blue) !important;}.has-vivid-cyan-blue-border-color{border-color: var(--wp--preset--color--vivid-cyan-blue) !important;}.has-vivid-purple-border-color{border-color: var(--wp--preset--color--vivid-purple) !important;}.has-vivid-cyan-blue-to-vivid-purple-gradient-background{background: var(--wp--preset--gradient--vivid-cyan-blue-to-vivid-purple) !important;}.has-light-green-cyan-to-vivid-green-cyan-gradient-background{background: var(--wp--preset--gradient--light-green-cyan-to-vivid-green-cyan) !important;}.has-luminous-vivid-amber-to-luminous-vivid-orange-gradient-background{background: var(--wp--preset--gradient--luminous-vivid-amber-to-luminous-vivid-orange) !important;}.has-luminous-vivid-orange-to-vivid-red-gradient-background{background: var(--wp--preset--gradient--luminous-vivid-orange-to-vivid-red) !important;}.has-very-light-gray-to-cyan-bluish-gray-gradient-background{background: var(--wp--preset--gradient--very-light-gray-to-cyan-bluish-gray) !important;}.has-cool-to-warm-spectrum-gradient-background{background: var(--wp--preset--gradient--cool-to-warm-spectrum) !important;}.has-blush-light-purple-gradient-background{background: var(--wp--preset--gradient--blush-light-purple) !important;}.has-blush-bordeaux-gradient-background{background: var(--wp--preset--gradient--blush-bordeaux) !important;}.has-luminous-dusk-gradient-background{background: var(--wp--preset--gradient--luminous-dusk) !important;}.has-pale-ocean-gradient-background{background: var(--wp--preset--gradient--pale-ocean) !important;}.has-electric-grass-gradient-background{background: var(--wp--preset--gradient--electric-grass) !important;}.has-midnight-gradient-background{background: var(--wp--preset--gradient--midnight) !important;}.has-small-font-size{font-size: var(--wp--preset--font-size--small) !important;}.has-medium-font-size{font-size: var(--wp--preset--font-size--medium) !important;}.has-large-font-size{font-size: var(--wp--preset--font-size--large) !important;}.has-x-large-font-size{font-size: var(--wp--preset--font-size--x-large) !important;}\n",
       ".wp-block-navigation a:where(:not(.wp-element-button)){color: inherit;}\n",
       ":where(.wp-block-post-template.is-layout-flex){gap: 1.25em;}:where(.wp-block-post-template.is-layout-grid){gap: 1.25em;}\n",
       ":where(.wp-block-columns.is-layout-flex){gap: 2em;}:where(.wp-block-columns.is-layout-grid){gap: 2em;}\n",
       ".wp-block-pullquote{font-size: 1.5em;line-height: 1.6;}\n",
       "</style>\n",
       "<link href=\"https://quizxp.com/wp-content/plugins/announcer/public/css/style.css?ver=5.9\" id=\"announcer-css-css\" media=\"all\" rel=\"stylesheet\" type=\"text/css\"/>\n",
       "<link href=\"https://quizxp.com/wp-content/plugins/makestories-helper/assets/css/ms-style.css?ver=6.3.2\" id=\"style-main-css\" media=\"all\" rel=\"stylesheet\" type=\"text/css\"/>\n",
       "<link href=\"https://quizxp.com/wp-content/plugins/makestories-helper/vendor/slick/slick-theme.css?ver=6.3.2\" id=\"slick-theme-css-css\" media=\"all\" rel=\"stylesheet\" type=\"text/css\"/>\n",
       "<link href=\"https://quizxp.com/wp-content/plugins/makestories-helper/vendor/slick/slick.css?ver=6.3.2\" id=\"slick-css-css\" media=\"all\" rel=\"stylesheet\" type=\"text/css\"/>\n",
       "<link href=\"https://cdn.ampproject.org/amp-story-player-v0.css?ver=6.3.2\" id=\"amp-story-player-css\" media=\"all\" rel=\"stylesheet\" type=\"text/css\"/>\n",
       "<link href=\"https://quizxp.com/wp-content/plugins/table-of-contents-plus/screen.min.css?ver=2309\" id=\"toc-screen-css\" media=\"all\" rel=\"stylesheet\" type=\"text/css\"/>\n",
       "<link href=\"https://quizxp.com/wp-content/themes/neve/zmooz_stories_style.css?ver=1.0.0\" id=\"zmooz_stories_style-css\" media=\"all\" rel=\"stylesheet\" type=\"text/css\"/>\n",
       "<link href=\"https://quizxp.com/wp-content/plugins/wptelegram-widget/assets/static/css/wptelegram-widget--public.3d0c567f.css?ver=1660131084\" id=\"wptelegram-widget--public-css\" media=\"all\" rel=\"stylesheet\" type=\"text/css\"/>\n",
       "<link href=\"https://quizxp.com/wp-content/themes/neve/style-main.min.css?ver=2.11.6\" id=\"neve-style-css\" media=\"all\" rel=\"stylesheet\" type=\"text/css\"/>\n",
       "<style id=\"neve-style-inline-css\" type=\"text/css\">\n",
       ".header-menu-sidebar-inner li.menu-item-nav-search { display: none; }\n",
       " .container{ max-width: 748px; } .has-neve-button-color-color{ color: #0366d6!important; } .has-neve-button-color-background-color{ background-color: #0366d6!important; } .alignfull > [class*=\"__inner-container\"], .alignwide > [class*=\"__inner-container\"]{ max-width:718px;margin:auto } .button.button-primary, button, input[type=button], .btn, input[type=\"submit\"], /* Buttons in navigation */ ul[id^=\"nv-primary-navigation\"] li.button.button-primary > a, .menu li.button.button-primary > a, .wp-block-button.is-style-primary .wp-block-button__link, .wc-block-grid .wp-block-button .wp-block-button__link, form input[type=\"submit\"], form button[type=\"submit\"], #comments input[type=\"submit\"]{ background-color: #0366d6;color: #ffffff;border-radius:3px 3px 3px 3px;border:1px solid;border-width:1px 1px 1px 1px; } .button.button-primary:hover, ul[id^=\"nv-primary-navigation\"] li.button.button-primary > a:hover, .menu li.button.button-primary > a:hover, .wp-block-button.is-style-primary .wp-block-button__link:hover, .wc-block-grid .wp-block-button .wp-block-button__link:hover, form input[type=\"submit\"]:hover, form button[type=\"submit\"]:hover, #comments input[type=\"submit\"]:hover{ background-color: #0366d6;color: #ffffff; } .button.button-secondary:not(.secondary-default), .wp-block-button.is-style-secondary .wp-block-button__link{ background-color: rgba(0,0,0,0);color: var(--nv-text-color);border-radius:3px;border:1px solid;border-width:1px 1px 1px 1px; } .button.button-secondary.secondary-default{ background-color: rgba(0,0,0,0);color: var(--nv-text-color);border-radius:3px;border:1px solid;border-width:1px 1px 1px 1px; } .button.button-secondary:not(.secondary-default):hover, .wp-block-button.is-style-secondary .wp-block-button__link:hover{ background-color: rgba(0,0,0,0);color: var(--nv-text-color); } .button.button-secondary.secondary-default:hover{ background-color: rgba(0,0,0,0);color: var(--nv-text-color); } body, .site-title{ font-size: 15px; line-height: 1.6em; letter-spacing: 0px; font-weight: 400; text-transform: none; } h3, .woocommerce-checkout h3{ font-size: 1.1em; line-height: 1.6em; letter-spacing: 0px; font-weight: 600; text-transform: none; } h4{ font-size: 1em; line-height: 1.6em; letter-spacing: 0px; font-weight: 600; text-transform: none; } h5{ font-size: 0.75em; line-height: 1.6em; letter-spacing: 0px; font-weight: 600; text-transform: none; } .nv-post-thumbnail-wrap img{ box-shadow:0 14px 28px rgba(0, 0, 0, 0.12), 0 10px 10px rgba(0, 0, 0, 0.12); } form:not([role=\"search\"]):not(.woocommerce-cart-form):not(.woocommerce-ordering):not(.cart) input:read-write:not(#coupon_code), form textarea, form select, .widget select{ margin-bottom: 10px; } form input:read-write, form textarea, form select, form select option, form.wp-block-search input.wp-block-search__input, .widget select{ color: var(--nv-text-color); } form label, .wpforms-container .wpforms-field-label{ margin-bottom: 10px; } form.search-form input:read-write{ padding-right:45px !important; } .header-main-inner,.header-main-inner a:not(.button),.header-main-inner .navbar-toggle{ color: #ffffff; } .header-main-inner .nv-icon svg,.header-main-inner .nv-contact-list svg{ fill: #ffffff; } .header-main-inner .icon-bar{ background-color: #ffffff; } .hfg_header .header-main-inner .nav-ul .sub-menu{ background-color: #e1013f; } .hfg_header .header-main-inner{ background-color: #e1013f; } .header-menu-sidebar .header-menu-sidebar-bg,.header-menu-sidebar .header-menu-sidebar-bg a:not(.button),.header-menu-sidebar .header-menu-sidebar-bg .navbar-toggle{ color: var(--nv-text-color); } .header-menu-sidebar .header-menu-sidebar-bg .nv-icon svg,.header-menu-sidebar .header-menu-sidebar-bg .nv-contact-list svg{ fill: var(--nv-text-color); } .header-menu-sidebar .header-menu-sidebar-bg .icon-bar{ background-color: var(--nv-text-color); } .hfg_header .header-menu-sidebar .header-menu-sidebar-bg .nav-ul .sub-menu{ background-color: var(--nv-site-bg); } .hfg_header .header-menu-sidebar .header-menu-sidebar-bg{ background-color: var(--nv-site-bg); } .header-menu-sidebar{ width: 360px; } .builder-item--logo .site-logo img{ max-width: 120px; } .builder-item--logo .site-logo{ padding:10px 0px 10px 0px; } .builder-item--logo{ margin:0px 0px 0px 0px; } .builder-item--nav-icon .navbar-toggle{ padding:10px 15px 10px 15px; } .builder-item--nav-icon{ margin:0px 0px 0px 0px; } .builder-item--primary-menu .nav-menu-primary > .nav-ul li:not(.woocommerce-mini-cart-item) > a,.builder-item--primary-menu .nav-menu-primary > .nav-ul .has-caret > a,.builder-item--primary-menu .nav-menu-primary > .nav-ul .neve-mm-heading span,.builder-item--primary-menu .nav-menu-primary > .nav-ul .has-caret{ color: #ffffff; } .builder-item--primary-menu .nav-menu-primary > .nav-ul li:not(.woocommerce-mini-cart-item) > a:after,.builder-item--primary-menu .nav-menu-primary > .nav-ul li > .has-caret > a:after{ background-color: #000b16; } .builder-item--primary-menu .nav-menu-primary > .nav-ul li:not(.woocommerce-mini-cart-item):hover > a,.builder-item--primary-menu .nav-menu-primary > .nav-ul li:hover > .has-caret > a,.builder-item--primary-menu .nav-menu-primary > .nav-ul li:hover > .has-caret{ color: #000b16; } .builder-item--primary-menu .nav-menu-primary > .nav-ul li:hover > .has-caret svg{ fill: #000b16; } .builder-item--primary-menu .nav-menu-primary > .nav-ul li.current-menu-item > a,.builder-item--primary-menu .nav-menu-primary > .nav-ul li.current_page_item > a,.builder-item--primary-menu .nav-menu-primary > .nav-ul li.current_page_item > .has-caret > a{ color: #ffffff; } .builder-item--primary-menu .nav-menu-primary > .nav-ul li.current-menu-item > .has-caret svg{ fill: #ffffff; } .builder-item--primary-menu .nav-ul > li:not(:last-of-type){ margin-right:20px; } .builder-item--primary-menu .style-full-height .nav-ul li:not(.menu-item-nav-search):not(.menu-item-nav-cart):hover > a:after{ width: calc(100% + 20px); } .builder-item--primary-menu .nav-ul li a, .builder-item--primary-menu .neve-mm-heading span{ min-height: 25px; } .header-menu-sidebar-inner .builder-item--primary-menu .primary-menu-ul.dropdowns-expanded > li > .sub-menu{ max-height: unset; } .header-menu-sidebar-inner .builder-item--primary-menu .primary-menu-ul.dropdowns-expanded > li > a > .caret-wrap,.header-menu-sidebar-inner .builder-item--primary-menu .primary-menu-ul.dropdowns-expanded > li > .has-caret .caret{ display: none; } .builder-item--primary-menu{ font-family: MS Sans Serif, Geneva, sans-serif, var(--nv-fallback-ff); font-size: 1em; line-height: 1.6em; letter-spacing: 0px; font-weight: 500; text-transform: none; padding:0px 0px 0px 0px;margin:0px 0px 0px 0px; } .builder-item--primary-menu svg{ width: 1em;height: 1em; } .builder-item--header_search_responsive a.nv-search.nv-icon > svg{ width: 17px;height: 17px; } .builder-item--header_search_responsive input[type=submit],.builder-item--header_search_responsive .nv-search-icon-wrap{ width: 14px; } .builder-item--header_search_responsive .nv-nav-search .search-form input[type=search]{ height: 40px; font-size: 14px; padding-right:50px;border-width:1px 1px 1px 1px;border-radius:1px 1px 1px 1px; } .builder-item--header_search_responsive .nv-search-icon-wrap .nv-icon svg{ width: 14px;height: 14px; } .builder-item--header_search_responsive .close-responsive-search svg{ width: 14px;height: 14px; } .builder-item--header_search_responsive{ padding:0px 18px 0px 10px;margin:0px 0px 0px 0px; } .builder-item--secondary-menu .nav-ul#secondary-menu li > a{ color: var(--nv-text-color); } .builder-item--secondary-menu .nav-ul a:after{ background-color: var(--nv-secondary-accent); } .builder-item--secondary-menu .nav-menu-secondary:not(.style-full-height) .nav-ul#secondary-menu li:hover > a{ color: var(--nv-secondary-accent); } .builder-item--secondary-menu .nav-ul li:not(:last-child){ margin-right:20px; } .builder-item--secondary-menu .style-full-height .nav-ul li:hover > a:after{ width: calc(100% + 20px); } .builder-item--secondary-menu .nav-ul > li > a{ min-height: 25px; } .builder-item--secondary-menu .nav-ul li > a{ font-size: 1em; line-height: 1.6em; letter-spacing: 0px; font-weight: 500; text-transform: none; } .builder-item--secondary-menu .nav-ul li > a svg{ width: 1em;height: 1em; } .builder-item--secondary-menu{ padding:0px 0px 0px 0px;margin:0px 0px 0px 0px; } .footer-bottom-inner{ background-color: var(--nv-site-bg); } .footer-bottom-inner,.footer-bottom-inner a:not(.button),.footer-bottom-inner .navbar-toggle{ color: var(--nv-text-color); } .footer-bottom-inner .nv-icon svg,.footer-bottom-inner .nv-contact-list svg{ fill: var(--nv-text-color); } .footer-bottom-inner .icon-bar{ background-color: var(--nv-text-color); } .footer-bottom-inner .nav-ul .sub-menu{ background-color: var(--nv-site-bg); } .builder-item--footer_copyright{ font-size: 1em; line-height: 1.6em; letter-spacing: 0px; font-weight: 500; text-transform: none; padding:0px 0px 0px 0px;margin:0px 0px 0px 0px; } .builder-item--footer_copyright svg{ width: 1em;height: 1em; } @media(min-width: 576px){ .container{ max-width: 992px; } body, .site-title{ font-size: 16px; line-height: 1.6em; letter-spacing: 0px; } h3, .woocommerce-checkout h3{ font-size: 1.1em; line-height: 1.6em; letter-spacing: 0px; } h4{ font-size: 1em; line-height: 1.6em; letter-spacing: 0px; } h5{ font-size: 0.75em; line-height: 1.6em; letter-spacing: 0px; } .header-menu-sidebar{ width: 360px; } .builder-item--logo .site-logo img{ max-width: 120px; } .builder-item--logo .site-logo{ padding:10px 0px 10px 0px; } .builder-item--logo{ margin:0px 0px 0px 0px; } .builder-item--nav-icon .navbar-toggle{ padding:10px 15px 10px 15px; } .builder-item--nav-icon{ margin:0px 0px 0px 0px; } .builder-item--primary-menu .nav-ul > li:not(:last-of-type){ margin-right:20px; } .builder-item--primary-menu .style-full-height .nav-ul li:not(.menu-item-nav-search):not(.menu-item-nav-cart):hover > a:after{ width: calc(100% + 20px); } .builder-item--primary-menu .nav-ul li a, .builder-item--primary-menu .neve-mm-heading span{ min-height: 25px; } .builder-item--primary-menu{ font-size: 1em; line-height: 1.6em; letter-spacing: 0px; padding:0px 0px 0px 0px;margin:0px 0px 0px 0px; } .builder-item--primary-menu svg{ width: 1em;height: 1em; } .builder-item--header_search_responsive input[type=submit],.builder-item--header_search_responsive .nv-search-icon-wrap{ width: 14px; } .builder-item--header_search_responsive .nv-nav-search .search-form input[type=search]{ height: 40px; font-size: 14px; padding-right:50px;border-width:1px 1px 1px 1px;border-radius:1px 1px 1px 1px; } .builder-item--header_search_responsive .nv-search-icon-wrap .nv-icon svg{ width: 14px;height: 14px; } .builder-item--header_search_responsive .close-responsive-search svg{ width: 14px;height: 14px; } .builder-item--header_search_responsive{ padding:0px 10px 0px 10px;margin:0px 0px 0px 0px; } .builder-item--secondary-menu .nav-ul li:not(:last-child){ margin-right:20px; } .builder-item--secondary-menu .style-full-height .nav-ul li:hover > a:after{ width: calc(100% + 20px); } .builder-item--secondary-menu .nav-ul > li > a{ min-height: 25px; } .builder-item--secondary-menu .nav-ul li > a{ font-size: 1em; line-height: 1.6em; letter-spacing: 0px; } .builder-item--secondary-menu .nav-ul li > a svg{ width: 1em;height: 1em; } .builder-item--secondary-menu{ padding:0px 0px 0px 0px;margin:0px 0px 0px 0px; } .builder-item--footer_copyright{ font-size: 1em; line-height: 1.6em; letter-spacing: 0px; padding:0px 0px 0px 0px;margin:0px 0px 0px 0px; } .builder-item--footer_copyright svg{ width: 1em;height: 1em; } }@media(min-width: 960px){ .container{ max-width: 1170px; } #content .container .col, #content .container-fluid .col{ max-width: 70%; } .alignfull > [class*=\"__inner-container\"], .alignwide > [class*=\"__inner-container\"]{ max-width:789px } .container-fluid .alignfull > [class*=\"__inner-container\"], .container-fluid .alignwide > [class*=\"__inner-container\"]{ max-width:calc(70% + 15px) } .nv-sidebar-wrap, .nv-sidebar-wrap.shop-sidebar{ max-width: 30%; } body, .site-title{ font-size: 15px; line-height: 1.6em; letter-spacing: 0px; } h3, .woocommerce-checkout h3{ font-size: 1.6em; line-height: 1.6em; letter-spacing: 0px; } h4{ font-size: 1.25em; line-height: 1.6em; letter-spacing: 0px; } h5{ font-size: 1em; line-height: 1.6em; letter-spacing: 0px; } .header-menu-sidebar{ width: 360px; } .builder-item--logo .site-logo img{ max-width: 196px; } .builder-item--logo .site-logo{ padding:10px 0px 10px 0px; } .builder-item--logo{ margin:0px 0px 0px 0px; } .builder-item--nav-icon .navbar-toggle{ padding:10px 15px 10px 15px; } .builder-item--nav-icon{ margin:0px 0px 0px 0px; } .builder-item--primary-menu .nav-ul > li:not(:last-of-type){ margin-right:20px; } .builder-item--primary-menu .style-full-height .nav-ul li:not(.menu-item-nav-search):not(.menu-item-nav-cart) > a:after{ left:-10px;right:-10px } .builder-item--primary-menu .style-full-height .nav-ul li:not(.menu-item-nav-search):not(.menu-item-nav-cart):hover > a:after{ width: calc(100% + 20px); } .builder-item--primary-menu .nav-ul li a, .builder-item--primary-menu .neve-mm-heading span{ min-height: 25px; } .builder-item--primary-menu{ font-size: 1.1em; line-height: 1.6em; letter-spacing: 0px; padding:0px 0px 0px 0px;margin:0px 0px 0px 0px; } .builder-item--primary-menu svg{ width: 1.1em;height: 1.1em; } .builder-item--header_search_responsive input[type=submit],.builder-item--header_search_responsive .nv-search-icon-wrap{ width: 14px; } .builder-item--header_search_responsive .nv-nav-search .search-form input[type=search]{ height: 40px; font-size: 14px; padding-right:50px;border-width:1px 1px 1px 1px;border-radius:1px 1px 1px 1px; } .builder-item--header_search_responsive .nv-search-icon-wrap .nv-icon svg{ width: 14px;height: 14px; } .builder-item--header_search_responsive .close-responsive-search svg{ width: 14px;height: 14px; } .builder-item--header_search_responsive{ padding:0px 10px 0px 10px;margin:0px 0px 0px 0px; } .builder-item--secondary-menu .nav-ul li:not(:last-child){ margin-right:20px; } .builder-item--secondary-menu .style-full-height #secondary-menu.nav-ul > li > a:after{ left:-10px;right:-10px } .builder-item--secondary-menu .style-full-height .nav-ul li:hover > a:after{ width: calc(100% + 20px); } .builder-item--secondary-menu .nav-ul > li > a{ min-height: 25px; } .builder-item--secondary-menu .nav-ul li > a{ font-size: 1em; line-height: 1.6em; letter-spacing: 0px; } .builder-item--secondary-menu .nav-ul li > a svg{ width: 1em;height: 1em; } .builder-item--secondary-menu{ padding:0px 0px 0px 0px;margin:0px 0px 0px 0px; } .builder-item--footer_copyright{ font-size: 1em; line-height: 1.6em; letter-spacing: 0px; padding:0px 0px 0px 0px;margin:0px 0px 0px 0px; } .builder-item--footer_copyright svg{ width: 1em;height: 1em; } }.nv-content-wrap .elementor a:not(.button):not(.wp-block-file__button){ text-decoration: none; }:root{--nv-primary-accent:#000000;--nv-secondary-accent:#050709;--nv-site-bg:#ffffff;--nv-light-bg:#ededed;--nv-dark-bg:#14171c;--nv-text-color:#393939;--nv-text-dark-bg:#ffffff;--nv-c-1:#77b978;--nv-c-2:#f37262;--nv-fallback-ff:Arial, Helvetica, sans-serif;}\n",
       ":root{--e-global-color-nvprimaryaccent:#000000;--e-global-color-nvsecondaryaccent:#050709;--e-global-color-nvsitebg:#;--e-global-color-nvlightbg:#ededed;--e-global-color-nvdarkbg:#14171c;--e-global-color-nvtextcolor:#393939;--e-global-color-nvtextdarkbg:#ffffff;--e-global-color-nvc1:#77b978;--e-global-color-nvc2:#f37262;}\n",
       "</style>\n",
       "<script id=\"jquery-core-js\" src=\"https://quizxp.com/wp-includes/js/jquery/jquery.min.js?ver=3.7.0\" type=\"text/javascript\"></script>\n",
       "<script id=\"jquery-migrate-js\" src=\"https://quizxp.com/wp-includes/js/jquery/jquery-migrate.min.js?ver=3.4.1\" type=\"text/javascript\"></script>\n",
       "<script id=\"announcer-js-js\" src=\"https://quizxp.com/wp-content/plugins/announcer/public/js/script.js?ver=5.9\" type=\"text/javascript\"></script>\n",
       "<script id=\"breeze-prefetch-js-extra\" type=\"text/javascript\">\n",
       "/* <![CDATA[ */\n",
       "var breeze_prefetch = {\"local_url\":\"https:\\/\\/quizxp.com\",\"ignore_remote_prefetch\":\"1\",\"ignore_list\":[\"\\/wp-admin\\/\"]};\n",
       "/* ]]> */\n",
       "</script>\n",
       "<script id=\"breeze-prefetch-js\" src=\"https://quizxp.com/wp-content/plugins/breeze/assets/js/js-front-end/breeze-prefetch-links.min.js?ver=2.0.24\" type=\"text/javascript\"></script>\n",
       "<script id=\"amp-story-player-js\" src=\"https://cdn.ampproject.org/amp-story-player-v0.js?ver=6.3.2\" type=\"text/javascript\"></script>\n",
       "<script async=\"\" id=\"google_gtagjs-js\" src=\"https://www.googletagmanager.com/gtag/js?id=UA-177423578-1\" type=\"text/javascript\"></script>\n",
       "<script id=\"google_gtagjs-js-after\" type=\"text/javascript\">\n",
       "window.dataLayer = window.dataLayer || [];function gtag(){dataLayer.push(arguments);}\n",
       "gtag('set', 'linker', {\"domains\":[\"quizxp.com\"]} );\n",
       "gtag(\"js\", new Date());\n",
       "gtag(\"set\", \"developer_id.dZTNiMT\", true);\n",
       "gtag(\"config\", \"UA-177423578-1\", {\"anonymize_ip\":true});\n",
       "</script>\n",
       "<link href=\"https://quizxp.com/wp-json/\" rel=\"https://api.w.org/\"/><link href=\"https://quizxp.com/wp-json/wp/v2/posts/13502\" rel=\"alternate\" type=\"application/json\"/><link href=\"https://quizxp.com/xmlrpc.php?rsd\" rel=\"EditURI\" title=\"RSD\" type=\"application/rsd+xml\"/>\n",
       "<meta content=\"WordPress 6.3.2\" name=\"generator\"/>\n",
       "<link href=\"https://quizxp.com/?p=13502\" rel=\"shortlink\"/>\n",
       "<link href=\"https://quizxp.com/wp-json/oembed/1.0/embed?url=https%3A%2F%2Fquizxp.com%2Fkeysight-off-campus-hiring-drive-2023%2F\" rel=\"alternate\" type=\"application/json+oembed\"/>\n",
       "<link href=\"https://quizxp.com/wp-json/oembed/1.0/embed?url=https%3A%2F%2Fquizxp.com%2Fkeysight-off-campus-hiring-drive-2023%2F&amp;format=xml\" rel=\"alternate\" type=\"text/xml+oembed\"/>\n",
       "<style type=\"text/css\">\n",
       "#floating_ads_bottom_textcss_container {position: fixed;bottom: 2px;width: 100%;}\n",
       "#floating_ads_bottom_textcss_wrap {text-align: center;}\n",
       "#floating_ads_bottom_textcss_ad {display:inline-block;}\n",
       "#floating_ads_bottom_textcss_close {position: absolute;top: -20px;display:inline-block;}\n",
       "</style><meta content=\"Site Kit by Google 1.111.1\" name=\"generator\"/><script async=\"\" data-ad-client=\"ca-pub-4899727169201705\" src=\"https://pagead2.googlesyndication.com/pagead/js/adsbygoogle.js\"></script><script type=\"text/javascript\">\n",
       "window.is_wp=1;\n",
       "window._izootoModule= window._izootoModule || {};\n",
       "window._izootoModule['swPath'] = \"https://quizxp.com/wp-content/plugins/izooto-web-push/includes/service-worker.php?sw=ac080fed06a530942882b3071c742999b994c089\";\n",
       "</script>\n",
       "<script> window._izq = window._izq || []; window._izq.push([\"init\"]);</script>\n",
       "<meta content=\"ca-host-pub-2644536267352236\" name=\"google-adsense-platform-account\"/>\n",
       "<meta content=\"sitekit.withgoogle.com\" name=\"google-adsense-platform-domain\"/>\n",
       "<meta content=\"Elementor 3.17.1; features: e_dom_optimization, e_optimized_assets_loading, additional_custom_breakpoints; settings: css_print_method-external, google_font-enabled, font_display-auto\" name=\"generator\"/>\n",
       "<script async=\"async\" crossorigin=\"anonymous\" src=\"https://pagead2.googlesyndication.com/pagead/js/adsbygoogle.js?client=ca-pub-4899727169201705&amp;host=ca-host-pub-2644536267352236\" type=\"text/javascript\"></script>\n",
       "<link href=\"https://quizxp.com/wp-content/uploads/2020/10/cropped-Quiz2-1-1-32x32.png\" rel=\"icon\" sizes=\"32x32\"/>\n",
       "<link href=\"https://quizxp.com/wp-content/uploads/2020/10/cropped-Quiz2-1-1-192x192.png\" rel=\"icon\" sizes=\"192x192\"/>\n",
       "<link href=\"https://quizxp.com/wp-content/uploads/2020/10/cropped-Quiz2-1-1-180x180.png\" rel=\"apple-touch-icon\"/>\n",
       "<meta content=\"https://quizxp.com/wp-content/uploads/2020/10/cropped-Quiz2-1-1-270x270.png\" name=\"msapplication-TileImage\">\n",
       "</meta></link></meta></link></meta></head>\n",
       "<body class=\"post-template-default single single-post postid-13502 single-format-standard wp-custom-logo nv-sidebar-right menu_sidebar_slide_left elementor-default elementor-kit-333\" id=\"neve_body\">\n",
       "<div class=\"wrapper\">\n",
       "<header class=\"header\" role=\"banner\">\n",
       "<a class=\"neve-skip-link show-on-focus\" href=\"#content\" tabindex=\"0\">\n",
       "Skip to content </a>\n",
       "<div class=\"hfg_header site-header\" id=\"header-grid\">\n",
       "<nav class=\"header--row header-main hide-on-mobile hide-on-tablet layout-full-contained nv-navbar header--row\" data-row-id=\"main\" data-show-on=\"desktop\">\n",
       "<div class=\"header--row-inner header-main-inner\">\n",
       "<div class=\"container\">\n",
       "<div class=\"row row--wrapper\" data-section=\"hfg_header_layout_main\">\n",
       "<div class=\"builder-item hfg-item-first col-4 desktop-left\"><div class=\"item--inner builder-item--logo\" data-item-id=\"logo\" data-section=\"title_tagline\">\n",
       "<div class=\"site-logo\">\n",
       "<a aria-label=\"QuizXP\" class=\"brand\" href=\"https://quizxp.com/\" title=\"QuizXP\"><img alt=\"\" class=\"skip-lazy\" decoding=\"async\" fetchpriority=\"high\" height=\"130\" sizes=\"(max-width: 500px) 100vw, 500px\" src=\"https://quizxp.com/wp-content/uploads/2020/10/cropped-Quiz2-5.png\" srcset=\"https://quizxp.com/wp-content/uploads/2020/10/cropped-Quiz2-5.png 500w, https://quizxp.com/wp-content/uploads/2020/10/cropped-Quiz2-5-300x78.png 300w\" width=\"500\"/></a></div>\n",
       "</div>\n",
       "</div><div class=\"builder-item has-nav hfg-item-last col-8 desktop-right hfg-is-group\"><div class=\"item--inner builder-item--primary-menu has_menu\" data-item-id=\"primary-menu\" data-section=\"header_menu_primary\">\n",
       "<div class=\"nv-nav-wrap\">\n",
       "<div aria-label=\"Primary Menu\" class=\"style-border-bottom nav-menu-primary\" role=\"navigation\">\n",
       "<ul class=\"primary-menu-ul nav-ul dropdowns-expanded\" id=\"nv-primary-navigation-main\"><li class=\"menu-item menu-item-type-post_type menu-item-object-page menu-item-home menu-item-553\" id=\"menu-item-553\"><a href=\"https://quizxp.com/home/\">Home</a></li>\n",
       "<li class=\"menu-item menu-item-type-taxonomy menu-item-object-category menu-item-534\" id=\"menu-item-534\"><a href=\"https://quizxp.com/category/amazon-quiz/\">Amazon Quiz</a></li>\n",
       "<li class=\"menu-item menu-item-type-taxonomy menu-item-object-category menu-item-547\" id=\"menu-item-547\"><a href=\"https://quizxp.com/category/flipkart-quiz/\">Flipkart Quiz</a></li>\n",
       "<li class=\"menu-item menu-item-type-taxonomy menu-item-object-category menu-item-573\" id=\"menu-item-573\"><a href=\"https://quizxp.com/category/nptel-assignment/\">NPTEL</a></li>\n",
       "<li class=\"menu-item menu-item-type-taxonomy menu-item-object-category current-post-ancestor current-menu-parent current-post-parent menu-item-1228\" id=\"menu-item-1228\"><a href=\"https://quizxp.com/category/internship-opportunity/\">Internship</a></li>\n",
       "<li class=\"menu-item menu-item-type-post_type menu-item-object-page menu-item-has-children menu-item-386\" id=\"menu-item-386\"><a href=\"https://quizxp.com/contact-us/\"><span class=\"menu-item-title-wrap\">More</span><div class=\"caret-wrap 6\" tabindex=\"0\"><span class=\"caret\"><svg viewbox=\"0 0 448 512\" xmlns=\"http://www.w3.org/2000/svg\"><path d=\"M207.029 381.476L12.686 187.132c-9.373-9.373-9.373-24.569 0-33.941l22.667-22.667c9.357-9.357 24.522-9.375 33.901-.04L224 284.505l154.745-154.021c9.379-9.335 24.544-9.317 33.901.04l22.667 22.667c9.373 9.373 9.373 24.569 0 33.941L240.971 381.476c-9.373 9.372-24.569 9.372-33.942 0z\"></path></svg></span></div></a>\n",
       "<ul class=\"sub-menu\">\n",
       "<li class=\"menu-item menu-item-type-custom menu-item-object-custom menu-item-4018\" id=\"menu-item-4018\"><a href=\"http://214.go.qureka.com/\">Play &amp; Win 50,000 Coins</a></li>\n",
       "<li class=\"menu-item menu-item-type-post_type menu-item-object-page menu-item-6420\" id=\"menu-item-6420\"><a href=\"https://quizxp.com/contact-us/\">Contact Us</a></li>\n",
       "<li class=\"menu-item menu-item-type-post_type menu-item-object-page menu-item-380\" id=\"menu-item-380\"><a href=\"https://quizxp.com/about-us/\">About Us</a></li>\n",
       "<li class=\"menu-item menu-item-type-post_type menu-item-object-page menu-item-privacy-policy menu-item-779\" id=\"menu-item-779\"><a href=\"https://quizxp.com/privacy-policy/\" rel=\"privacy-policy\">Privacy Policy</a></li>\n",
       "</ul>\n",
       "</li>\n",
       "</ul> </div>\n",
       "</div>\n",
       "</div>\n",
       "<div class=\"item--inner builder-item--header_search_responsive\" data-item-id=\"header_search_responsive\" data-section=\"header_search_responsive\">\n",
       "<div class=\"nv-search-icon-component\">\n",
       "<div [class]=\"visible ? 'menu-item-nav-search active canvas' : 'menu-item-nav-search canvas'\" class=\"menu-item-nav-search canvas\" id=\"nv-search-icon-responsive\" tabindex=\"0\">\n",
       "<a class=\"nv-icon nv-search\" href=\"#\">\n",
       "<svg height=\"15\" viewbox=\"0 0 1792 1792\" width=\"15\" xmlns=\"http://www.w3.org/2000/svg\"><path d=\"M1216 832q0-185-131.5-316.5t-316.5-131.5-316.5 131.5-131.5 316.5 131.5 316.5 316.5 131.5 316.5-131.5 131.5-316.5zm512 832q0 52-38 90t-90 38q-54 0-90-38l-343-342q-179 124-399 124-143 0-273.5-55.5t-225-150-150-225-55.5-273.5 55.5-273.5 150-225 225-150 273.5-55.5 273.5 55.5 225 150 150 225 55.5 273.5q0 220-124 399l343 343q37 37 37 90z\"></path></svg>\n",
       "</a> <div aria-label=\"search\" class=\"nv-nav-search\">\n",
       "<div class=\"form-wrap container\">\n",
       "<form action=\"https://quizxp.com/\" class=\"search-form\" method=\"get\" role=\"search\"><label><span class=\"screen-reader-text\">Search for...</span><input class=\"search-field\" name=\"s\" placeholder=\"Search for...\" type=\"search\" value=\"\"/></label><input class=\"search-submit\" type=\"submit\" value=\"Search\"/><div class=\"nv-search-icon-wrap\"><div class=\"nv-icon nv-search\">\n",
       "<svg height=\"15\" viewbox=\"0 0 1792 1792\" width=\"15\" xmlns=\"http://www.w3.org/2000/svg\"><path d=\"M1216 832q0-185-131.5-316.5t-316.5-131.5-316.5 131.5-131.5 316.5 131.5 316.5 316.5 131.5 316.5-131.5 131.5-316.5zm512 832q0 52-38 90t-90 38q-54 0-90-38l-343-342q-179 124-399 124-143 0-273.5-55.5t-225-150-150-225-55.5-273.5 55.5-273.5 150-225 225-150 273.5-55.5 273.5 55.5 225 150 150 225 55.5 273.5q0 220-124 399l343 343q37 37 37 90z\"></path></svg>\n",
       "</div></div></form> </div>\n",
       "<div class=\"close-container container\">\n",
       "<button class=\"close-responsive-search\" tabindex=\"0\">\n",
       "<svg fill=\"#555555\" height=\"50\" viewbox=\"0 0 20 20\" width=\"50\"><path d=\"M14.95 6.46L11.41 10l3.54 3.54l-1.41 1.41L10 11.42l-3.53 3.53l-1.42-1.42L8.58 10L5.05 6.47l1.42-1.42L10 8.58l3.54-3.53z\"></path><rect></rect></svg>\n",
       "</button>\n",
       "</div>\n",
       "</div>\n",
       "</div>\n",
       "</div>\n",
       "</div>\n",
       "</div> </div>\n",
       "</div>\n",
       "</div>\n",
       "</nav>\n",
       "<nav class=\"header--row header-main hide-on-desktop layout-full-contained nv-navbar header--row\" data-row-id=\"main\" data-show-on=\"mobile\">\n",
       "<div class=\"header--row-inner header-main-inner\">\n",
       "<div class=\"container\">\n",
       "<div class=\"row row--wrapper\" data-section=\"hfg_header_layout_main\">\n",
       "<div class=\"builder-item hfg-item-first col-4 mobile-left tablet-left\"><div class=\"item--inner builder-item--logo\" data-item-id=\"logo\" data-section=\"title_tagline\">\n",
       "<div class=\"site-logo\">\n",
       "<a aria-label=\"QuizXP\" class=\"brand\" href=\"https://quizxp.com/\" title=\"QuizXP\"><img alt=\"\" class=\"skip-lazy\" decoding=\"async\" height=\"130\" sizes=\"(max-width: 500px) 100vw, 500px\" src=\"https://quizxp.com/wp-content/uploads/2020/10/cropped-Quiz2-5.png\" srcset=\"https://quizxp.com/wp-content/uploads/2020/10/cropped-Quiz2-5.png 500w, https://quizxp.com/wp-content/uploads/2020/10/cropped-Quiz2-5-300x78.png 300w\" width=\"500\"/></a></div>\n",
       "</div>\n",
       "</div><div class=\"builder-item hfg-item-last col-7 tablet-right mobile-right offset-1 hfg-is-group\"><div class=\"item--inner builder-item--header_search_responsive\" data-item-id=\"header_search_responsive\" data-section=\"header_search_responsive\">\n",
       "<div class=\"nv-search-icon-component\">\n",
       "<div [class]=\"visible ? 'menu-item-nav-search active canvas' : 'menu-item-nav-search canvas'\" class=\"menu-item-nav-search canvas\" id=\"nv-search-icon-responsive\" tabindex=\"0\">\n",
       "<a class=\"nv-icon nv-search\" href=\"#\">\n",
       "<svg height=\"15\" viewbox=\"0 0 1792 1792\" width=\"15\" xmlns=\"http://www.w3.org/2000/svg\"><path d=\"M1216 832q0-185-131.5-316.5t-316.5-131.5-316.5 131.5-131.5 316.5 131.5 316.5 316.5 131.5 316.5-131.5 131.5-316.5zm512 832q0 52-38 90t-90 38q-54 0-90-38l-343-342q-179 124-399 124-143 0-273.5-55.5t-225-150-150-225-55.5-273.5 55.5-273.5 150-225 225-150 273.5-55.5 273.5 55.5 225 150 150 225 55.5 273.5q0 220-124 399l343 343q37 37 37 90z\"></path></svg>\n",
       "</a> <div aria-label=\"search\" class=\"nv-nav-search\">\n",
       "<div class=\"form-wrap container\">\n",
       "<form action=\"https://quizxp.com/\" class=\"search-form\" method=\"get\" role=\"search\"><label><span class=\"screen-reader-text\">Search for...</span><input class=\"search-field\" name=\"s\" placeholder=\"Search for...\" type=\"search\" value=\"\"/></label><input class=\"search-submit\" type=\"submit\" value=\"Search\"/><div class=\"nv-search-icon-wrap\"><div class=\"nv-icon nv-search\">\n",
       "<svg height=\"15\" viewbox=\"0 0 1792 1792\" width=\"15\" xmlns=\"http://www.w3.org/2000/svg\"><path d=\"M1216 832q0-185-131.5-316.5t-316.5-131.5-316.5 131.5-131.5 316.5 131.5 316.5 316.5 131.5 316.5-131.5 131.5-316.5zm512 832q0 52-38 90t-90 38q-54 0-90-38l-343-342q-179 124-399 124-143 0-273.5-55.5t-225-150-150-225-55.5-273.5 55.5-273.5 150-225 225-150 273.5-55.5 273.5 55.5 225 150 150 225 55.5 273.5q0 220-124 399l343 343q37 37 37 90z\"></path></svg>\n",
       "</div></div></form> </div>\n",
       "<div class=\"close-container container\">\n",
       "<button class=\"close-responsive-search\" tabindex=\"0\">\n",
       "<svg fill=\"#555555\" height=\"50\" viewbox=\"0 0 20 20\" width=\"50\"><path d=\"M14.95 6.46L11.41 10l3.54 3.54l-1.41 1.41L10 11.42l-3.53 3.53l-1.42-1.42L8.58 10L5.05 6.47l1.42-1.42L10 8.58l3.54-3.53z\"></path><rect></rect></svg>\n",
       "</button>\n",
       "</div>\n",
       "</div>\n",
       "</div>\n",
       "</div>\n",
       "</div>\n",
       "<div class=\"item--inner builder-item--nav-icon\" data-item-id=\"nav-icon\" data-section=\"header_menu_icon\">\n",
       "<div class=\"menu-mobile-toggle item-button navbar-toggle-wrapper\">\n",
       "<button aria-label=\"\n",
       "\t\t\tNavigation Menu\t\t\t\" class=\"navbar-toggle\">\n",
       "<div class=\"bars\">\n",
       "<span class=\"icon-bar\"></span>\n",
       "<span class=\"icon-bar\"></span>\n",
       "<span class=\"icon-bar\"></span>\n",
       "</div>\n",
       "<span class=\"screen-reader-text\">Toggle Navigation</span>\n",
       "</button>\n",
       "</div>\n",
       "</div>\n",
       "</div> </div>\n",
       "</div>\n",
       "</div>\n",
       "</nav>\n",
       "<div class=\"header-menu-sidebar menu-sidebar-panel slide_left\" id=\"header-menu-sidebar\">\n",
       "<div class=\"header-menu-sidebar-bg\" id=\"header-menu-sidebar-bg\">\n",
       "<div class=\"close-sidebar-panel navbar-toggle-wrapper\">\n",
       "<button aria-label=\"\n",
       "\t\t\t\tNavigation Menu\t\t\t\t\" class=\"navbar-toggle active\">\n",
       "<div class=\"bars\">\n",
       "<span class=\"icon-bar\"></span>\n",
       "<span class=\"icon-bar\"></span>\n",
       "<span class=\"icon-bar\"></span>\n",
       "</div>\n",
       "<span class=\"screen-reader-text\">\n",
       "Toggle Navigation </span>\n",
       "</button>\n",
       "</div>\n",
       "<div class=\"header-menu-sidebar-inner\" id=\"header-menu-sidebar-inner\">\n",
       "<div class=\"builder-item hfg-item-last hfg-item-first col-12 desktop-left tablet-left mobile-left\"><div class=\"item--inner builder-item--secondary-menu has_menu\" data-item-id=\"secondary-menu\" data-section=\"secondary_menu_primary\">\n",
       "<div class=\"nv-top-bar\">\n",
       "<div aria-label=\"Secondary Menu\" class=\"menu-content style-plain nav-menu-secondary\" role=\"navigation\">\n",
       "<ul class=\"nav-ul\" id=\"secondary-menu\"><li class=\"menu-item menu-item-type-post_type menu-item-object-page menu-item-home menu-item-553\"><a href=\"https://quizxp.com/home/\">Home</a></li>\n",
       "<li class=\"menu-item menu-item-type-taxonomy menu-item-object-category menu-item-534\"><a href=\"https://quizxp.com/category/amazon-quiz/\">Amazon Quiz</a></li>\n",
       "<li class=\"menu-item menu-item-type-taxonomy menu-item-object-category menu-item-547\"><a href=\"https://quizxp.com/category/flipkart-quiz/\">Flipkart Quiz</a></li>\n",
       "<li class=\"menu-item menu-item-type-taxonomy menu-item-object-category menu-item-573\"><a href=\"https://quizxp.com/category/nptel-assignment/\">NPTEL</a></li>\n",
       "<li class=\"menu-item menu-item-type-taxonomy menu-item-object-category current-post-ancestor current-menu-parent current-post-parent menu-item-1228\"><a href=\"https://quizxp.com/category/internship-opportunity/\">Internship</a></li>\n",
       "<li class=\"menu-item menu-item-type-post_type menu-item-object-page menu-item-386\"><a href=\"https://quizxp.com/contact-us/\">More</a></li>\n",
       "<li class=\"menu-item menu-item-type-custom menu-item-object-custom menu-item-4018\"><a href=\"http://214.go.qureka.com/\">Play &amp; Win 50,000 Coins</a></li>\n",
       "<li class=\"menu-item menu-item-type-post_type menu-item-object-page menu-item-6420\"><a href=\"https://quizxp.com/contact-us/\">Contact Us</a></li>\n",
       "<li class=\"menu-item menu-item-type-post_type menu-item-object-page menu-item-380\"><a href=\"https://quizxp.com/about-us/\">About Us</a></li>\n",
       "<li class=\"menu-item menu-item-type-post_type menu-item-object-page menu-item-privacy-policy menu-item-779\"><a href=\"https://quizxp.com/privacy-policy/\" rel=\"privacy-policy\">Privacy Policy</a></li>\n",
       "</ul> </div>\n",
       "</div>\n",
       "</div>\n",
       "</div> </div>\n",
       "</div>\n",
       "</div>\n",
       "<div class=\"header-menu-sidebar-overlay\"></div>\n",
       "</div>\n",
       "</header>\n",
       "<main class=\"neve-main\" id=\"content\" role=\"main\">\n",
       "<div class=\"container single-post-container\">\n",
       "<div class=\"row\">\n",
       "<article class=\"nv-single-post-wrap col post-13502 post type-post status-publish format-standard has-post-thumbnail hentry category-internship-opportunity\" id=\"post-13502\">\n",
       "<div class=\"code-block code-block-8\" style=\"margin: 8px 0; clear: both;\">\n",
       "<script async=\"\" src=\"https://pagead2.googlesyndication.com/pagead/js/adsbygoogle.js\"></script>\n",
       "<ins class=\"adsbygoogle\" data-ad-client=\"ca-pub-4899727169201705\" data-ad-format=\"auto\" data-ad-slot=\"7947303432\" data-full-width-responsive=\"true\" style=\"display:block\"></ins>\n",
       "<script>\n",
       "     (adsbygoogle = window.adsbygoogle || []).push({});\n",
       "</script></div>\n",
       "<div class=\"entry-header\"><div class=\"nv-title-meta-wrap\"><small class=\"neve-breadcrumbs-wrapper\"></small><h1 class=\"title entry-title\">KeySight Off Campus hiring Drive 2023 for Technical Support Engineer</h1><ul class=\"nv-meta-list\"><li class=\"meta author vcard\"><span class=\"author-name fn\">by <a href=\"https://quizxp.com/author/prajyotjigmail-com/\" rel=\"author\" title=\"Posts by QuizXp Team\">QuizXp Team</a></span></li><li class=\"meta date posted-on\"><time class=\"entry-date published\" content=\"2023-10-28\" datetime=\"2023-10-28T11:45:16+05:30\">October 28, 2023</time><time class=\"updated\" datetime=\"2023-10-28T11:45:37+05:30\">October 28, 2023</time></li></ul></div></div><div class=\"nv-thumb-wrap\"><img alt=\"KeySight Off Campus hiring Drive 2023\" class=\"skip-lazy wp-post-image\" decoding=\"async\" height=\"300\" sizes=\"(max-width: 500px) 100vw, 500px\" src=\"https://quizxp.com/wp-content/uploads/2023/10/KeySight-Off-Campus-hiring-Drive-2023.png\" srcset=\"https://quizxp.com/wp-content/uploads/2023/10/KeySight-Off-Campus-hiring-Drive-2023.png 500w, https://quizxp.com/wp-content/uploads/2023/10/KeySight-Off-Campus-hiring-Drive-2023-300x180.png 300w, https://quizxp.com/wp-content/uploads/2023/10/KeySight-Off-Campus-hiring-Drive-2023-150x90.png 150w\" width=\"500\"/></div><div class=\"nv-content-wrap entry-content\"><div class=\"code-block code-block-3\" style=\"margin: 8px 0; clear: both;\">\n",
       "<script async=\"\" data-ad-client=\"ca-pub-4899727169201705\" src=\"https://pagead2.googlesyndication.com/pagead/js/adsbygoogle.js\"></script></div>\n",
       "<p class=\"has-small-font-size\"><strong><strong><strong>KeySight Off Campus hiring Drive 2023</strong></strong></strong>: KeySight is seeking a motivated and detail-oriented individual to join our team from 2020/2021/2022/ 2023/ 2024 batch for its hiring process. Bachelors, from any degree can apply for their hiring process. Candidates can start their careers in the Software Industry with KeySight as analyst. Interested and eligible candidates need to apply as soon as possible before the apply date. <em>Amazon latest job notification</em>, Selection process, interview process other details and apply link are given below:</p>\n",
       "<p><a href=\"https://tnpofficer.com/norlox-solutions-off-campus-drive/#\" rel=\"noopener\" target=\"_blank\"></a></p>\n",
       "<h3 class=\"wp-block-heading\"><span id=\"KeySight_Off_Campus_hiring_Drive_2023\"><strong><strong>KeySight Off Campus hiring Drive 2023</strong></strong></span></h3><div class=\"no_bullets\" id=\"toc_container\"><p class=\"toc_title\">Contents</p><ul class=\"toc_list\"><ul><li><ul><li></li></ul></li></ul><li><ul><li></li><li></li></ul></li><li></li><li></li><li></li></ul></div>\n",
       "<figure class=\"wp-block-table\"><table><tbody><tr><td><strong>Company Name</strong></td><td>KeySight</td></tr><tr><td><strong>Website</strong></td><td>www.KeySight.com</td></tr><tr><td><strong>Positions</strong></td><td><strong>Technical Support Engineer</strong></td></tr><tr><td><strong>Designation</strong></td><td><strong><strong><strong>Technical Support Engineer</strong></strong></strong></td></tr><tr><td><strong>Eligibility</strong></td><td>B.Com/BBA/BA/BBM</td></tr><tr><td><strong>Batch</strong></td><td>2022/2023</td></tr><tr><td><strong>Job Location</strong></td><td>Bangalore</td></tr><tr><td><strong>Experience</strong></td><td>Fresher</td></tr><tr><td><strong>Salary</strong> <strong>CTC</strong></td><td>Best In Industry</td></tr><tr><td><strong>Last date to apply</strong></td><td>Apply ASAP</td></tr></tbody></table></figure>\n",
       "<div class=\"code-block code-block-1\" style=\"margin: 8px 0; clear: both;\">\n",
       "<script async=\"\" src=\"https://pagead2.googlesyndication.com/pagead/js/adsbygoogle.js\"></script>\n",
       "<ins class=\"adsbygoogle\" data-ad-client=\"ca-pub-4899727169201705\" data-ad-format=\"auto\" data-ad-slot=\"6145949522\" data-full-width-responsive=\"true\" style=\"display:block\"></ins>\n",
       "<script>\n",
       "     (adsbygoogle = window.adsbygoogle || []).push({});\n",
       "</script>\n",
       "</div>\n",
       "<p><strong>Company may withdraw the position any time so Candidates should apply as soon as possible before the link gets expired</strong>.</p><div class=\"code-block code-block-10\" style=\"margin: 8px auto; text-align: center; display: block; clear: both;\">\n",
       "<script type=\"text/javascript\">(function() {var script=document.createElement(\"script\");script.type=\"text/javascript\";script.async =true;script.src=\"//telegram.im/widget-button/index.php?id=@offcampusupdatesforu\";document.getElementsByTagName(\"head\")[0].appendChild(script);})();</script>\n",
       "<a class=\"telegramim_button telegramim_shadow telegramim_pulse\" href=\"https://telegram.im/@offcampusupdatesforu\" style=\"font-size:19px;width:391px;background:#27A5E7;box-shadow:1px 1px 5px #27A5E7;color:#FFFFFF;border-radius:50px;\" target=\"_blank\" title=\"\"><i></i> Join Our Official Telegram Channel</a>\n",
       "</div>\n",
       "<p>Candidate should always read job description and details carefully before applying. </p>\n",
       "<h4 class=\"wp-block-heading\"><span id=\"KeySight_Off_Campus_hiring_2023_Drive_Responsibilities\"><strong>KeySight Off Campus hiring 2023 Drive: Responsibilities</strong></span></h4>\n",
       "<h2 class=\"wp-block-heading\"><span id=\"Eligibility_Criteria_for_KeySight\"><strong>Eligibility Criteria for KeySight</strong></span></h2>\n",
       "<p>Candidates shall meet the criteria for KeySight hiring</p>\n",
       "<h3 class=\"wp-block-heading\"><span id=\"Qualification\"><strong>Qualification</strong></span></h3>\n",
       "<ul>\n",
       "<li>Bachelors or Master Degree or University Degree or equivalent.</li>\n",
       "<li>No prior experience required; may have up to 2 years’ relevant experience.</li>\n",
       "</ul>\n",
       "<h3 class=\"wp-block-heading\"><span id=\"Skills_required\"><strong>Skills required</strong></span></h3>\n",
       "<ul>\n",
       "<li>Works on technical support assignments with clearly defined objectives</li>\n",
       "<li>Solves problems of limited scope and complexity</li>\n",
       "<li>Provides engineering support to customers, customer support personnel and field support staff on systems and product issues. Works with customer and company personnel to define technical problem, determine the solution and assist customer in implementing the fix.</li>\n",
       "</ul>\n",
       "<h2 class=\"wp-block-heading\"><span id=\"KeySight_Recruitment_Steps_to_Apply\"><strong>KeySight Recruitment: Steps to Apply</strong></span></h2>\n",
       "<div class=\"code-block code-block-2\" style=\"margin: 8px 0; clear: both;\">\n",
       "<script async=\"\" src=\"https://pagead2.googlesyndication.com/pagead/js/adsbygoogle.js\"></script>\n",
       "<ins class=\"adsbygoogle\" data-ad-client=\"ca-pub-4899727169201705\" data-ad-format=\"auto\" data-ad-slot=\"7465365085\" data-full-width-responsive=\"true\" style=\"display:block\"></ins>\n",
       "<script>\n",
       "     (adsbygoogle = window.adsbygoogle || []).push({});\n",
       "</script>\n",
       "</div>\n",
       "<p>Interested candidates must follow the following procedure to apply for Off Campus Drive of KeySight 2023</p>\n",
       "<ul>\n",
       "<li>Click on the “Apply Link” button mention below. (You will be re-directed to <strong>KeySight official career page</strong>)</li>\n",
       "<li>Click on “Apply Now”.</li>\n",
       "<li>Register, if not registered before.</li>\n",
       "<li>After registration, login and fill in the application form with all necessary details.</li>\n",
       "<li>Submit all the relevant documents, if asked (Resume/ Marksheet/ ID Proof, etc.)</li>\n",
       "<li>Don’t lie. Fill the details correctly</li>\n",
       "<li>Verify the entered details are correct or not.</li>\n",
       "<li>Submit the application form after Verification.</li>\n",
       "</ul>\n",
       "<h2 class=\"wp-block-heading\"><span id=\"About_KeySight\"><strong>About KeySight</strong></span></h2>\n",
       "<p>As a market leader in measurement science, Keysight is at the heart of the technology revolution. Our customers are the world’s visionaries and innovators – those who achieve breakthroughs that change lives, secure the world, and connect people across the globe. We’re driven to deliver breakthrough solutions and trusted insights in electronic design, test, manufacturing, and optimization. We go well beyond the industry’s highest precision test products to integrated software and services that anticipate challenges and streamline processes. Keysight’s solutions optimize networks, integrate workflows, and validate tomorrow’s technologies with unprecedented performance backed by our global network of experts.</p>\n",
       "<h2 class=\"wp-block-heading\" id=\"how-to-apply-for-tech-mahindra-off-campus-drive-2022\"><span id=\"How_to_apply_for_KeySight_Off_Campus_hiring_Drive_2023nbsp\"><strong>How to apply for KeySight Off Campus hiring Drive 2023 ?</strong></span></h2>\n",
       "<p>All the eligible candidates may apply through the given link below for off campus drive of KeySight</p>\n",
       "<p><strong>For regular Off-campus</strong> <strong>job, updates join:- </strong><mark class=\"has-inline-color\" style=\"background-color:rgba(0, 0, 0, 0);color:#ff0000\"><strong><a href=\"https://linktr.ee/quizxp\" rel=\"noopener\" target=\"_blank\">Click Here</a></strong></mark></p>\n",
       "<div class=\"code-block code-block-5\" style=\"margin: 8px 0; clear: both;\">\n",
       "<script async=\"\" src=\"https://pagead2.googlesyndication.com/pagead/js/adsbygoogle.js\"></script>\n",
       "<ins class=\"adsbygoogle\" data-ad-client=\"ca-pub-4899727169201705\" data-ad-format=\"auto\" data-ad-slot=\"7147469183\" data-full-width-responsive=\"true\" style=\"display:block\"></ins>\n",
       "<script>\n",
       "     (adsbygoogle = window.adsbygoogle || []).push({});\n",
       "</script>\n",
       "</div>\n",
       "<p><strong>To Apply:</strong> <a href=\"https://jobs.keysight.com/job/Bengaluru-Technical-Support-Engineer/841801800/\" rel=\"noreferrer noopener\" target=\"_blank\">Click here</a></p>\n",
       "</div>\n",
       "<div class=\"comments-area\" id=\"comments\">\n",
       "<div class=\"comment-respond\" id=\"respond\">\n",
       "<h3 class=\"comment-reply-title\" id=\"reply-title\">Leave a Reply <small><a href=\"/keysight-off-campus-hiring-drive-2023/#respond\" id=\"cancel-comment-reply-link\" rel=\"nofollow\" style=\"display:none;\">Cancel reply</a></small></h3><form action=\"https://quizxp.com/wp-comments-post.php\" class=\"comment-form\" id=\"commentform\" method=\"post\"><p class=\"comment-notes\"><span id=\"email-notes\">Your email address will not be published.</span> <span class=\"required-field-message\">Required fields are marked <span class=\"required\">*</span></span></p><p class=\"comment-form-comment\"><label for=\"comment\">Comment <span class=\"required\">*</span></label> <textarea cols=\"45\" id=\"comment\" maxlength=\"65525\" name=\"comment\" required=\"required\" rows=\"8\"></textarea></p><p class=\"comment-form-author\"><label for=\"author\">Name <span class=\"required\">*</span></label> <input autocomplete=\"name\" id=\"author\" maxlength=\"245\" name=\"author\" required=\"required\" size=\"30\" type=\"text\" value=\"\"/></p>\n",
       "<p class=\"comment-form-email\"><label for=\"email\">Email <span class=\"required\">*</span></label> <input aria-describedby=\"email-notes\" autocomplete=\"email\" id=\"email\" maxlength=\"100\" name=\"email\" required=\"required\" size=\"30\" type=\"text\" value=\"\"/></p>\n",
       "<p class=\"comment-form-url\"><label for=\"url\">Website</label> <input autocomplete=\"url\" id=\"url\" maxlength=\"200\" name=\"url\" size=\"30\" type=\"text\" value=\"\"/></p>\n",
       "<p class=\"comment-form-cookies-consent\"><input id=\"wp-comment-cookies-consent\" name=\"wp-comment-cookies-consent\" type=\"checkbox\" value=\"yes\"> <label for=\"wp-comment-cookies-consent\">Save my name, email, and website in this browser for the next time I comment.</label></input></p>\n",
       "<p class=\"form-submit\"><input class=\"submit\" id=\"submit\" name=\"submit\" type=\"submit\" value=\"Post Comment\"/> <input id=\"comment_post_ID\" name=\"comment_post_ID\" type=\"hidden\" value=\"13502\"/>\n",
       "<input id=\"comment_parent\" name=\"comment_parent\" type=\"hidden\" value=\"0\"/>\n",
       "</p><p style=\"display: none;\"><input id=\"akismet_comment_nonce\" name=\"akismet_comment_nonce\" type=\"hidden\" value=\"32ded5d5f5\"/></p><p style=\"display: none !important;\"><label>Δ<textarea cols=\"45\" maxlength=\"100\" name=\"ak_hp_textarea\" rows=\"8\"></textarea></label><input id=\"ak_js_1\" name=\"ak_js\" type=\"hidden\" value=\"30\"/><script>document.getElementById( \"ak_js_1\" ).setAttribute( \"value\", ( new Date() ).getTime() );</script></p></form> </div>\n",
       "</div>\n",
       "</article>\n",
       "<div class=\"nv-sidebar-wrap col-sm-12 nv-right blog-sidebar\">\n",
       "<aside id=\"secondary\" role=\"complementary\">\n",
       "<div class=\"widget widget_recent_entries\" id=\"recent-posts-9\">\n",
       "<p class=\"widget-title\">Latest Upadate</p>\n",
       "<ul>\n",
       "<li>\n",
       "<a aria-current=\"page\" href=\"https://quizxp.com/keysight-off-campus-hiring-drive-2023/\">KeySight Off Campus hiring Drive 2023 for Technical Support Engineer</a>\n",
       "</li>\n",
       "<li>\n",
       "<a href=\"https://quizxp.com/appinventiv-off-campus-hiring-2023/\">Appinventiv Off Campus hiring 2023 Trainee</a>\n",
       "</li>\n",
       "<li>\n",
       "<a href=\"https://quizxp.com/tata-technologies-off-campus-hiring-drive-2023/\">Tata Technologies Off Campus hiring Drive 2023 for Graduate Engineer Trainee</a>\n",
       "</li>\n",
       "<li>\n",
       "<a href=\"https://quizxp.com/hbc-off-campus-hiring-drive-2023/\">HBC Off Campus hiring Drive 2023 for Trainee</a>\n",
       "</li>\n",
       "<li>\n",
       "<a href=\"https://quizxp.com/cisco-off-campus-drive/\">Cisco Off Campus Drive for Non Technical Graduate Apprentice</a>\n",
       "</li>\n",
       "</ul>\n",
       "</div><div class=\"widget widget_search\" id=\"search-7\"><p class=\"widget-title\">Search Deals &amp; Quiz</p><form action=\"https://quizxp.com/\" class=\"search-form\" method=\"get\" role=\"search\">\n",
       "<label>\n",
       "<span class=\"screen-reader-text\">Search for:</span>\n",
       "<input class=\"search-field\" name=\"s\" placeholder=\"Search …\" type=\"search\" value=\"\"/>\n",
       "</label>\n",
       "<input class=\"search-submit\" type=\"submit\" value=\"Search\"/>\n",
       "<div class=\"nv-search-icon-wrap\"><div class=\"nv-icon nv-search\">\n",
       "<svg height=\"15\" viewbox=\"0 0 1792 1792\" width=\"15\" xmlns=\"http://www.w3.org/2000/svg\"><path d=\"M1216 832q0-185-131.5-316.5t-316.5-131.5-316.5 131.5-131.5 316.5 131.5 316.5 316.5 131.5 316.5-131.5 131.5-316.5zm512 832q0 52-38 90t-90 38q-54 0-90-38l-343-342q-179 124-399 124-143 0-273.5-55.5t-225-150-150-225-55.5-273.5 55.5-273.5 150-225 225-150 273.5-55.5 273.5 55.5 225 150 150 225 55.5 273.5q0 220-124 399l343 343q37 37 37 90z\"></path></svg>\n",
       "</div></div></form></div><div class=\"widget widget_media_image\" id=\"media_image-8\"><p class=\"widget-title\">Join Us</p><a href=\"https://linktr.ee/quizxp\"><img alt=\"Quizxp whatsapp telegram\" class=\"image wp-image-1284 attachment-medium size-medium\" decoding=\"async\" height=\"154\" loading=\"lazy\" sizes=\"(max-width: 300px) 100vw, 300px\" src=\"https://quizxp.com/wp-content/uploads/2021/05/join-300x154.jpg\" srcset=\"https://quizxp.com/wp-content/uploads/2021/05/join-300x154.jpg 300w, https://quizxp.com/wp-content/uploads/2021/05/join.jpg 313w\" style=\"max-width: 100%; height: auto;\" width=\"300\"/></a></div>\n",
       "</aside>\n",
       "</div>\n",
       "</div>\n",
       "</div>\n",
       "</main>\n",
       "<footer class=\"site-footer\" id=\"site-footer\">\n",
       "<div class=\"hfg_footer\">\n",
       "<div class=\"footer--row footer-bottom layout-full-contained\" data-row-id=\"bottom\" data-show-on=\"desktop\" id=\"cb-row--footer-bottom\">\n",
       "<div class=\"footer--row-inner footer-bottom-inner footer-content-wrap\">\n",
       "<div class=\"container\">\n",
       "<div class=\"hfg-grid nv-footer-content hfg-grid-bottom row--wrapper row\" data-section=\"hfg_footer_layout_bottom\">\n",
       "<div class=\"builder-item hfg-item-last hfg-item-first col-12 desktop-center tablet-center mobile-center hfg-item-v-middle\"><div class=\"item--inner builder-item--footer_copyright\" data-item-id=\"footer_copyright\" data-section=\"footer_copyright\">\n",
       "<div class=\"component-wrap\">\n",
       "<p><a href=\"https://themeisle.com/themes/neve/\" rel=\"nofollow\">Neve</a> | Powered by <a href=\"http://wordpress.org\" rel=\"nofollow\">WordPress</a></p></div>\n",
       "</div>\n",
       "</div> </div>\n",
       "</div>\n",
       "</div>\n",
       "</div>\n",
       "</div>\n",
       "</footer>\n",
       "</div>\n",
       "<div id=\"floating_ads_bottom_textcss_container\">\n",
       "<div id=\"floating_ads_bottom_textcss_wrap\">\n",
       "<div id=\"floating_ads_bottom_textcss_ad\">\n",
       "<script async=\"\" crossorigin=\"anonymous\" src=\"https://pagead2.googlesyndication.com/pagead/js/adsbygoogle.js?client=ca-pub-4899727169201705\"></script>\n",
       "<ins class=\"adsbygoogle\" data-ad-client=\"ca-pub-4899727169201705\" data-ad-slot=\"3970534018\" style=\"display:inline-block;width:428px;height:90px\"></ins>\n",
       "<script>\n",
       "     (adsbygoogle = window.adsbygoogle || []).push({});\n",
       "</script> </div>\n",
       "<div id=\"floating_ads_bottom_textcss_close\">\n",
       "<a href=\"#\" id=\"floating_ads_bottom_textcss_x\" onclick=\"document.getElementById('floating_ads_bottom_textcss_container').style.display='none';return false;\"><img alt=\"x\" border=\"none\" src=\"https://quizxp.com/wp-content/plugins/floating-ads-bottom/images/close.png\"/></a>\n",
       "</div>\n",
       "</div>\n",
       "</div>\n",
       "<script id=\"pt-cv-content-views-script-js-extra\" type=\"text/javascript\">\n",
       "/* <![CDATA[ */\n",
       "var PT_CV_PUBLIC = {\"_prefix\":\"pt-cv-\",\"page_to_show\":\"5\",\"_nonce\":\"9a565dfc66\",\"is_admin\":\"\",\"is_mobile\":\"1\",\"ajaxurl\":\"https:\\/\\/quizxp.com\\/wp-admin\\/admin-ajax.php\",\"lang\":\"\",\"loading_image_src\":\"data:image\\/gif;base64,R0lGODlhDwAPALMPAMrKygwMDJOTkz09PZWVla+vr3p6euTk5M7OzuXl5TMzMwAAAJmZmWZmZszMzP\\/\\/\\/yH\\/C05FVFNDQVBFMi4wAwEAAAAh+QQFCgAPACwAAAAADwAPAAAEQvDJaZaZOIcV8iQK8VRX4iTYoAwZ4iCYoAjZ4RxejhVNoT+mRGP4cyF4Pp0N98sBGIBMEMOotl6YZ3S61Bmbkm4mAgAh+QQFCgAPACwAAAAADQANAAAENPDJSRSZeA418itN8QiK8BiLITVsFiyBBIoYqnoewAD4xPw9iY4XLGYSjkQR4UAUD45DLwIAIfkEBQoADwAsAAAAAA8ACQAABC\\/wyVlamTi3nSdgwFNdhEJgTJoNyoB9ISYoQmdjiZPcj7EYCAeCF1gEDo4Dz2eIAAAh+QQFCgAPACwCAAAADQANAAAEM\\/DJBxiYeLKdX3IJZT1FU0iIg2RNKx3OkZVnZ98ToRD4MyiDnkAh6BkNC0MvsAj0kMpHBAAh+QQFCgAPACwGAAAACQAPAAAEMDC59KpFDll73HkAA2wVY5KgiK5b0RRoI6MuzG6EQqCDMlSGheEhUAgqgUUAFRySIgAh+QQFCgAPACwCAAIADQANAAAEM\\/DJKZNLND\\/kkKaHc3xk+QAMYDKsiaqmZCxGVjSFFCxB1vwy2oOgIDxuucxAMTAJFAJNBAAh+QQFCgAPACwAAAYADwAJAAAEMNAs86q1yaWwwv2Ig0jUZx3OYa4XoRAfwADXoAwfo1+CIjyFRuEho60aSNYlOPxEAAAh+QQFCgAPACwAAAIADQANAAAENPA9s4y8+IUVcqaWJ4qEQozSoAzoIyhCK2NFU2SJk0hNnyEOhKR2AzAAj4Pj4GE4W0bkJQIAOw==\"};\n",
       "var PT_CV_PAGINATION = {\"first\":\"\\u00ab\",\"prev\":\"\\u2039\",\"next\":\"\\u203a\",\"last\":\"\\u00bb\",\"goto_first\":\"Go to first page\",\"goto_prev\":\"Go to previous page\",\"goto_next\":\"Go to next page\",\"goto_last\":\"Go to last page\",\"current_page\":\"Current page is\",\"goto_page\":\"Go to page\"};\n",
       "/* ]]> */\n",
       "</script>\n",
       "<script id=\"pt-cv-content-views-script-js\" src=\"https://quizxp.com/wp-content/plugins/content-views-query-and-display-post-page/public/assets/js/cv.js?ver=3.5.0\" type=\"text/javascript\"></script>\n",
       "<script id=\"slick-min-js-js\" src=\"https://quizxp.com/wp-content/plugins/makestories-helper/vendor/slick/slick.min.js?ver=6.3.2\" type=\"text/javascript\"></script>\n",
       "<script id=\"script-main-js\" src=\"https://quizxp.com/wp-content/plugins/makestories-helper/assets/js/ms-script.js?ver=6.3.2\" type=\"text/javascript\"></script>\n",
       "<script id=\"ms-story-player-js\" src=\"https://js.makestories.io/player/StoryPlayer.js?ver=6.3.2\" type=\"text/javascript\"></script>\n",
       "<script id=\"toc-front-js-extra\" type=\"text/javascript\">\n",
       "/* <![CDATA[ */\n",
       "var tocplus = {\"smooth_scroll\":\"1\",\"visibility_show\":\"show\",\"visibility_hide\":\"hide\",\"width\":\"Auto\"};\n",
       "/* ]]> */\n",
       "</script>\n",
       "<script id=\"toc-front-js\" src=\"https://quizxp.com/wp-content/plugins/table-of-contents-plus/front.min.js?ver=2309\" type=\"text/javascript\"></script>\n",
       "<script id=\"wptelegram-widget--public-js\" src=\"https://quizxp.com/wp-content/plugins/wptelegram-widget/assets/static/js/wptelegram-widget--public.f398a08e.js?ver=6f2d48cea875402034a64db7d2baf0b0\" type=\"text/javascript\"></script>\n",
       "<script id=\"neve-script-js-extra\" type=\"text/javascript\">\n",
       "/* <![CDATA[ */\n",
       "var NeveProperties = {\"ajaxurl\":\"https:\\/\\/quizxp.com\\/wp-admin\\/admin-ajax.php\",\"nonce\":\"64681d21c2\",\"isRTL\":\"\",\"isCustomize\":\"\"};\n",
       "/* ]]> */\n",
       "</script>\n",
       "<script async=\"\" id=\"neve-script-js\" src=\"https://quizxp.com/wp-content/themes/neve/assets/js/build/modern/frontend.js?ver=2.11.6\" type=\"text/javascript\"></script>\n",
       "<script id=\"comment-reply-js\" src=\"https://quizxp.com/wp-includes/js/comment-reply.min.js?ver=6.3.2\" type=\"text/javascript\"></script>\n",
       "<script id=\"izootoWP-js\" src=\"https://cdn.izooto.com/scripts/ac080fed06a530942882b3071c742999b994c089.js?ver=3.7.14\" type=\"text/javascript\"></script>\n",
       "<script defer=\"\" id=\"akismet-frontend-js\" src=\"https://quizxp.com/wp-content/plugins/akismet/_inc/akismet-frontend.js?ver=1693931741\" type=\"text/javascript\"></script>\n",
       "<script async=\"\" src=\"https://sdki.truepush.com/sdk/v2.0.3/app.js\" type=\"application/javascript\"></script>\n",
       "<script>\n",
       "    var truepush = window.truepush || [];\n",
       "            \n",
       "    truepush.push(function(){\n",
       "        truepush.Init({\n",
       "            id: \"627a41e64f0afa1ae3311ffa\"\n",
       "        },function(error){\n",
       "          if(error) console.error(error);\n",
       "        })\n",
       "    })\n",
       "    </script>\n",
       "</body>\n",
       "</html>"
      ]
     },
     "execution_count": 11,
     "metadata": {},
     "output_type": "execute_result"
    }
   ],
   "source": [
    "soup"
   ]
  },
  {
   "cell_type": "code",
   "execution_count": 13,
   "id": "90758946-d1e4-4713-b18f-34291de38d31",
   "metadata": {},
   "outputs": [],
   "source": [
    "apply_link_soup1=soup.find_all(\"p\")"
   ]
  },
  {
   "cell_type": "code",
   "execution_count": 14,
   "id": "898ac4dc-4071-4c72-8699-e971130c927d",
   "metadata": {},
   "outputs": [
    {
     "data": {
      "text/plain": [
       "[<p class=\"has-small-font-size\"><strong><strong><strong>KeySight Off Campus hiring Drive 2023</strong></strong></strong>: KeySight is seeking a motivated and detail-oriented individual to join our team from 2020/2021/2022/ 2023/ 2024 batch for its hiring process. Bachelors, from any degree can apply for their hiring process. Candidates can start their careers in the Software Industry with KeySight as analyst. Interested and eligible candidates need to apply as soon as possible before the apply date. <em>Amazon latest job notification</em>, Selection process, interview process other details and apply link are given below:</p>,\n",
       " <p><a href=\"https://tnpofficer.com/norlox-solutions-off-campus-drive/#\" rel=\"noopener\" target=\"_blank\"></a></p>,\n",
       " <p class=\"toc_title\">Contents</p>,\n",
       " <p><strong>Company may withdraw the position any time so Candidates should apply as soon as possible before the link gets expired</strong>.</p>,\n",
       " <p>Candidate should always read job description and details carefully before applying. </p>,\n",
       " <p>Candidates shall meet the criteria for KeySight hiring</p>,\n",
       " <p>Interested candidates must follow the following procedure to apply for Off Campus Drive of KeySight 2023</p>,\n",
       " <p>As a market leader in measurement science, Keysight is at the heart of the technology revolution. Our customers are the world’s visionaries and innovators – those who achieve breakthroughs that change lives, secure the world, and connect people across the globe. We’re driven to deliver breakthrough solutions and trusted insights in electronic design, test, manufacturing, and optimization. We go well beyond the industry’s highest precision test products to integrated software and services that anticipate challenges and streamline processes. Keysight’s solutions optimize networks, integrate workflows, and validate tomorrow’s technologies with unprecedented performance backed by our global network of experts.</p>,\n",
       " <p>All the eligible candidates may apply through the given link below for off campus drive of KeySight</p>,\n",
       " <p><strong>For regular Off-campus</strong> <strong>job, updates join:- </strong><mark class=\"has-inline-color\" style=\"background-color:rgba(0, 0, 0, 0);color:#ff0000\"><strong><a href=\"https://linktr.ee/quizxp\" rel=\"noopener\" target=\"_blank\">Click Here</a></strong></mark></p>,\n",
       " <p><strong>To Apply:</strong> <a href=\"https://jobs.keysight.com/job/Bengaluru-Technical-Support-Engineer/841801800/\" rel=\"noreferrer noopener\" target=\"_blank\">Click here</a></p>,\n",
       " <p class=\"comment-notes\"><span id=\"email-notes\">Your email address will not be published.</span> <span class=\"required-field-message\">Required fields are marked <span class=\"required\">*</span></span></p>,\n",
       " <p class=\"comment-form-comment\"><label for=\"comment\">Comment <span class=\"required\">*</span></label> <textarea cols=\"45\" id=\"comment\" maxlength=\"65525\" name=\"comment\" required=\"required\" rows=\"8\"></textarea></p>,\n",
       " <p class=\"comment-form-author\"><label for=\"author\">Name <span class=\"required\">*</span></label> <input autocomplete=\"name\" id=\"author\" maxlength=\"245\" name=\"author\" required=\"required\" size=\"30\" type=\"text\" value=\"\"/></p>,\n",
       " <p class=\"comment-form-email\"><label for=\"email\">Email <span class=\"required\">*</span></label> <input aria-describedby=\"email-notes\" autocomplete=\"email\" id=\"email\" maxlength=\"100\" name=\"email\" required=\"required\" size=\"30\" type=\"text\" value=\"\"/></p>,\n",
       " <p class=\"comment-form-url\"><label for=\"url\">Website</label> <input autocomplete=\"url\" id=\"url\" maxlength=\"200\" name=\"url\" size=\"30\" type=\"text\" value=\"\"/></p>,\n",
       " <p class=\"comment-form-cookies-consent\"><input id=\"wp-comment-cookies-consent\" name=\"wp-comment-cookies-consent\" type=\"checkbox\" value=\"yes\"> <label for=\"wp-comment-cookies-consent\">Save my name, email, and website in this browser for the next time I comment.</label></input></p>,\n",
       " <p class=\"form-submit\"><input class=\"submit\" id=\"submit\" name=\"submit\" type=\"submit\" value=\"Post Comment\"/> <input id=\"comment_post_ID\" name=\"comment_post_ID\" type=\"hidden\" value=\"13502\"/>\n",
       " <input id=\"comment_parent\" name=\"comment_parent\" type=\"hidden\" value=\"0\"/>\n",
       " </p>,\n",
       " <p style=\"display: none;\"><input id=\"akismet_comment_nonce\" name=\"akismet_comment_nonce\" type=\"hidden\" value=\"32ded5d5f5\"/></p>,\n",
       " <p style=\"display: none !important;\"><label>Δ<textarea cols=\"45\" maxlength=\"100\" name=\"ak_hp_textarea\" rows=\"8\"></textarea></label><input id=\"ak_js_1\" name=\"ak_js\" type=\"hidden\" value=\"30\"/><script>document.getElementById( \"ak_js_1\" ).setAttribute( \"value\", ( new Date() ).getTime() );</script></p>,\n",
       " <p class=\"widget-title\">Latest Upadate</p>,\n",
       " <p class=\"widget-title\">Search Deals &amp; Quiz</p>,\n",
       " <p class=\"widget-title\">Join Us</p>,\n",
       " <p><a href=\"https://themeisle.com/themes/neve/\" rel=\"nofollow\">Neve</a> | Powered by <a href=\"http://wordpress.org\" rel=\"nofollow\">WordPress</a></p>]"
      ]
     },
     "execution_count": 14,
     "metadata": {},
     "output_type": "execute_result"
    }
   ],
   "source": [
    "for i in apply_link_soup1:\n",
    "    "
   ]
  },
  {
   "cell_type": "code",
   "execution_count": null,
   "id": "f1ddc630-cb7e-424c-8fdb-cd11dc059ce6",
   "metadata": {},
   "outputs": [],
   "source": []
  }
 ],
 "metadata": {
  "kernelspec": {
   "display_name": "Python 3 (ipykernel)",
   "language": "python",
   "name": "python3"
  },
  "language_info": {
   "codemirror_mode": {
    "name": "ipython",
    "version": 3
   },
   "file_extension": ".py",
   "mimetype": "text/x-python",
   "name": "python",
   "nbconvert_exporter": "python",
   "pygments_lexer": "ipython3",
   "version": "3.11.6"
  }
 },
 "nbformat": 4,
 "nbformat_minor": 5
}
